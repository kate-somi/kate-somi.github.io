{
  "nbformat": 4,
  "nbformat_minor": 0,
  "metadata": {
    "colab": {
      "name": "HSE_ML_team1.ipynb",
      "provenance": [],
      "collapsed_sections": [],
      "include_colab_link": true
    },
    "kernelspec": {
      "name": "python3",
      "display_name": "Python 3"
    },
    "language_info": {
      "name": "python"
    },
    "accelerator": "TPU"
  },
  "cells": [
    {
      "cell_type": "markdown",
      "metadata": {
        "id": "view-in-github",
        "colab_type": "text"
      },
      "source": [
        "<a href=\"https://colab.research.google.com/github/kate-somi/kate-somi.github.io/blob/master/HSE_ML_team1.ipynb\" target=\"_parent\"><img src=\"https://colab.research.google.com/assets/colab-badge.svg\" alt=\"Open In Colab\"/></a>"
      ]
    },
    {
      "cell_type": "markdown",
      "metadata": {
        "id": "8YYHjWGloZLJ"
      },
      "source": [
        "Loading libs and data"
      ]
    },
    {
      "cell_type": "code",
      "metadata": {
        "id": "Ugekiv5NAfsD",
        "colab": {
          "base_uri": "https://localhost:8080/"
        },
        "outputId": "0ed1b42d-5f1d-44fc-c6d6-6a3ed7494c82"
      },
      "source": [
        "from google.colab import drive\n",
        "drive.mount('/content/drive')"
      ],
      "execution_count": null,
      "outputs": [
        {
          "output_type": "stream",
          "text": [
            "Mounted at /content/drive\n"
          ],
          "name": "stdout"
        }
      ]
    },
    {
      "cell_type": "code",
      "metadata": {
        "id": "JCr3tzNYoO7E",
        "colab": {
          "base_uri": "https://localhost:8080/"
        },
        "outputId": "b4696978-bbf9-4be4-ecbb-b137ebc4d965"
      },
      "source": [
        "!pip install haversine"
      ],
      "execution_count": null,
      "outputs": [
        {
          "output_type": "stream",
          "text": [
            "Collecting haversine\n",
            "  Downloading https://files.pythonhosted.org/packages/f4/52/a13286844780c7b1740edbbee8a8f0524e2a6d51c068b59dda39a6a119f5/haversine-2.3.0-py2.py3-none-any.whl\n",
            "Installing collected packages: haversine\n",
            "Successfully installed haversine-2.3.0\n"
          ],
          "name": "stdout"
        }
      ]
    },
    {
      "cell_type": "code",
      "metadata": {
        "id": "g_3y814__1iL"
      },
      "source": [
        "import pandas as pd\n",
        "import numpy as np\n",
        "import seaborn as sns\n",
        "import matplotlib.pyplot as plt\n",
        "%matplotlib inline\n",
        "\n",
        "import xgboost as xgb\n",
        "from sklearn.linear_model import LinearRegression\n",
        "from sklearn.model_selection import train_test_split\n",
        "from sklearn.pipeline import Pipeline\n",
        "from sklearn.model_selection import GridSearchCV, cross_val_score\n",
        "from sklearn.svm import SVR\n",
        "from sklearn.ensemble import RandomForestRegressor\n",
        "from xgboost.sklearn import XGBRegressor\n",
        "from sklearn import metrics\n",
        "\n",
        "from haversine import haversine"
      ],
      "execution_count": null,
      "outputs": []
    },
    {
      "cell_type": "code",
      "metadata": {
        "id": "47I0l1JpAAv6"
      },
      "source": [
        "PATH = 'drive/MyDrive/HSE_ML_team1'\n",
        "\n",
        "train = pd.read_csv(PATH + '/train.csv', nrows=2_500_000)\n",
        "test = pd.read_csv(PATH + '/test.csv')\n",
        "train.name = 'Train'\n",
        "test.name = 'Test'"
      ],
      "execution_count": null,
      "outputs": []
    },
    {
      "cell_type": "markdown",
      "metadata": {
        "id": "EFGqFBv6o4dj"
      },
      "source": [
        "EDA"
      ]
    },
    {
      "cell_type": "code",
      "metadata": {
        "id": "3pdWlY1lpHUv",
        "colab": {
          "base_uri": "https://localhost:8080/",
          "height": 309
        },
        "outputId": "995b66cb-1186-4ab9-b29e-c33c5cf8a8e9"
      },
      "source": [
        "train.head()"
      ],
      "execution_count": null,
      "outputs": [
        {
          "output_type": "execute_result",
          "data": {
            "text/html": [
              "<div>\n",
              "<style scoped>\n",
              "    .dataframe tbody tr th:only-of-type {\n",
              "        vertical-align: middle;\n",
              "    }\n",
              "\n",
              "    .dataframe tbody tr th {\n",
              "        vertical-align: top;\n",
              "    }\n",
              "\n",
              "    .dataframe thead th {\n",
              "        text-align: right;\n",
              "    }\n",
              "</style>\n",
              "<table border=\"1\" class=\"dataframe\">\n",
              "  <thead>\n",
              "    <tr style=\"text-align: right;\">\n",
              "      <th></th>\n",
              "      <th>key</th>\n",
              "      <th>fare_amount</th>\n",
              "      <th>pickup_datetime</th>\n",
              "      <th>pickup_longitude</th>\n",
              "      <th>pickup_latitude</th>\n",
              "      <th>dropoff_longitude</th>\n",
              "      <th>dropoff_latitude</th>\n",
              "      <th>passenger_count</th>\n",
              "    </tr>\n",
              "  </thead>\n",
              "  <tbody>\n",
              "    <tr>\n",
              "      <th>0</th>\n",
              "      <td>2009-06-15 17:26:21.0000001</td>\n",
              "      <td>4.5</td>\n",
              "      <td>2009-06-15 17:26:21 UTC</td>\n",
              "      <td>-73.844311</td>\n",
              "      <td>40.721319</td>\n",
              "      <td>-73.841610</td>\n",
              "      <td>40.712278</td>\n",
              "      <td>1</td>\n",
              "    </tr>\n",
              "    <tr>\n",
              "      <th>1</th>\n",
              "      <td>2010-01-05 16:52:16.0000002</td>\n",
              "      <td>16.9</td>\n",
              "      <td>2010-01-05 16:52:16 UTC</td>\n",
              "      <td>-74.016048</td>\n",
              "      <td>40.711303</td>\n",
              "      <td>-73.979268</td>\n",
              "      <td>40.782004</td>\n",
              "      <td>1</td>\n",
              "    </tr>\n",
              "    <tr>\n",
              "      <th>2</th>\n",
              "      <td>2011-08-18 00:35:00.00000049</td>\n",
              "      <td>5.7</td>\n",
              "      <td>2011-08-18 00:35:00 UTC</td>\n",
              "      <td>-73.982738</td>\n",
              "      <td>40.761270</td>\n",
              "      <td>-73.991242</td>\n",
              "      <td>40.750562</td>\n",
              "      <td>2</td>\n",
              "    </tr>\n",
              "    <tr>\n",
              "      <th>3</th>\n",
              "      <td>2012-04-21 04:30:42.0000001</td>\n",
              "      <td>7.7</td>\n",
              "      <td>2012-04-21 04:30:42 UTC</td>\n",
              "      <td>-73.987130</td>\n",
              "      <td>40.733143</td>\n",
              "      <td>-73.991567</td>\n",
              "      <td>40.758092</td>\n",
              "      <td>1</td>\n",
              "    </tr>\n",
              "    <tr>\n",
              "      <th>4</th>\n",
              "      <td>2010-03-09 07:51:00.000000135</td>\n",
              "      <td>5.3</td>\n",
              "      <td>2010-03-09 07:51:00 UTC</td>\n",
              "      <td>-73.968095</td>\n",
              "      <td>40.768008</td>\n",
              "      <td>-73.956655</td>\n",
              "      <td>40.783762</td>\n",
              "      <td>1</td>\n",
              "    </tr>\n",
              "  </tbody>\n",
              "</table>\n",
              "</div>"
            ],
            "text/plain": [
              "                             key  ...  passenger_count\n",
              "0    2009-06-15 17:26:21.0000001  ...                1\n",
              "1    2010-01-05 16:52:16.0000002  ...                1\n",
              "2   2011-08-18 00:35:00.00000049  ...                2\n",
              "3    2012-04-21 04:30:42.0000001  ...                1\n",
              "4  2010-03-09 07:51:00.000000135  ...                1\n",
              "\n",
              "[5 rows x 8 columns]"
            ]
          },
          "metadata": {
            "tags": []
          },
          "execution_count": 5
        }
      ]
    },
    {
      "cell_type": "code",
      "metadata": {
        "id": "QE8fV2YtpKHp",
        "colab": {
          "base_uri": "https://localhost:8080/"
        },
        "outputId": "2cf3bc66-9880-4a38-b5e8-5042f6de19f5"
      },
      "source": [
        "train.info()"
      ],
      "execution_count": null,
      "outputs": [
        {
          "output_type": "stream",
          "text": [
            "<class 'pandas.core.frame.DataFrame'>\n",
            "RangeIndex: 2500000 entries, 0 to 2499999\n",
            "Data columns (total 8 columns):\n",
            " #   Column             Dtype  \n",
            "---  ------             -----  \n",
            " 0   key                object \n",
            " 1   fare_amount        float64\n",
            " 2   pickup_datetime    object \n",
            " 3   pickup_longitude   float64\n",
            " 4   pickup_latitude    float64\n",
            " 5   dropoff_longitude  float64\n",
            " 6   dropoff_latitude   float64\n",
            " 7   passenger_count    int64  \n",
            "dtypes: float64(5), int64(1), object(2)\n",
            "memory usage: 152.6+ MB\n"
          ],
          "name": "stdout"
        }
      ]
    },
    {
      "cell_type": "code",
      "metadata": {
        "id": "Wmcj_GWDpMwT",
        "colab": {
          "base_uri": "https://localhost:8080/",
          "height": 294
        },
        "outputId": "35c76fac-5137-420f-abf7-265c3657066e"
      },
      "source": [
        "train.describe()"
      ],
      "execution_count": null,
      "outputs": [
        {
          "output_type": "execute_result",
          "data": {
            "text/html": [
              "<div>\n",
              "<style scoped>\n",
              "    .dataframe tbody tr th:only-of-type {\n",
              "        vertical-align: middle;\n",
              "    }\n",
              "\n",
              "    .dataframe tbody tr th {\n",
              "        vertical-align: top;\n",
              "    }\n",
              "\n",
              "    .dataframe thead th {\n",
              "        text-align: right;\n",
              "    }\n",
              "</style>\n",
              "<table border=\"1\" class=\"dataframe\">\n",
              "  <thead>\n",
              "    <tr style=\"text-align: right;\">\n",
              "      <th></th>\n",
              "      <th>fare_amount</th>\n",
              "      <th>pickup_longitude</th>\n",
              "      <th>pickup_latitude</th>\n",
              "      <th>dropoff_longitude</th>\n",
              "      <th>dropoff_latitude</th>\n",
              "      <th>passenger_count</th>\n",
              "    </tr>\n",
              "  </thead>\n",
              "  <tbody>\n",
              "    <tr>\n",
              "      <th>count</th>\n",
              "      <td>2.500000e+06</td>\n",
              "      <td>2.500000e+06</td>\n",
              "      <td>2.500000e+06</td>\n",
              "      <td>2.499981e+06</td>\n",
              "      <td>2.499981e+06</td>\n",
              "      <td>2.500000e+06</td>\n",
              "    </tr>\n",
              "    <tr>\n",
              "      <th>mean</th>\n",
              "      <td>1.134467e+01</td>\n",
              "      <td>-7.251697e+01</td>\n",
              "      <td>3.992710e+01</td>\n",
              "      <td>-7.251614e+01</td>\n",
              "      <td>3.992419e+01</td>\n",
              "      <td>1.684222e+00</td>\n",
              "    </tr>\n",
              "    <tr>\n",
              "      <th>std</th>\n",
              "      <td>9.838472e+00</td>\n",
              "      <td>1.286145e+01</td>\n",
              "      <td>8.343414e+00</td>\n",
              "      <td>1.267979e+01</td>\n",
              "      <td>1.007531e+01</td>\n",
              "      <td>1.326494e+00</td>\n",
              "    </tr>\n",
              "    <tr>\n",
              "      <th>min</th>\n",
              "      <td>-6.200000e+01</td>\n",
              "      <td>-3.377681e+03</td>\n",
              "      <td>-3.458665e+03</td>\n",
              "      <td>-3.383297e+03</td>\n",
              "      <td>-3.461541e+03</td>\n",
              "      <td>0.000000e+00</td>\n",
              "    </tr>\n",
              "    <tr>\n",
              "      <th>25%</th>\n",
              "      <td>6.000000e+00</td>\n",
              "      <td>-7.399207e+01</td>\n",
              "      <td>4.073492e+01</td>\n",
              "      <td>-7.399139e+01</td>\n",
              "      <td>4.073402e+01</td>\n",
              "      <td>1.000000e+00</td>\n",
              "    </tr>\n",
              "    <tr>\n",
              "      <th>50%</th>\n",
              "      <td>8.500000e+00</td>\n",
              "      <td>-7.398181e+01</td>\n",
              "      <td>4.075263e+01</td>\n",
              "      <td>-7.398016e+01</td>\n",
              "      <td>4.075315e+01</td>\n",
              "      <td>1.000000e+00</td>\n",
              "    </tr>\n",
              "    <tr>\n",
              "      <th>75%</th>\n",
              "      <td>1.250000e+01</td>\n",
              "      <td>-7.396712e+01</td>\n",
              "      <td>4.076711e+01</td>\n",
              "      <td>-7.396368e+01</td>\n",
              "      <td>4.076811e+01</td>\n",
              "      <td>2.000000e+00</td>\n",
              "    </tr>\n",
              "    <tr>\n",
              "      <th>max</th>\n",
              "      <td>1.273310e+03</td>\n",
              "      <td>2.856442e+03</td>\n",
              "      <td>2.912465e+03</td>\n",
              "      <td>3.414307e+03</td>\n",
              "      <td>3.345917e+03</td>\n",
              "      <td>2.080000e+02</td>\n",
              "    </tr>\n",
              "  </tbody>\n",
              "</table>\n",
              "</div>"
            ],
            "text/plain": [
              "        fare_amount  pickup_longitude  ...  dropoff_latitude  passenger_count\n",
              "count  2.500000e+06      2.500000e+06  ...      2.499981e+06     2.500000e+06\n",
              "mean   1.134467e+01     -7.251697e+01  ...      3.992419e+01     1.684222e+00\n",
              "std    9.838472e+00      1.286145e+01  ...      1.007531e+01     1.326494e+00\n",
              "min   -6.200000e+01     -3.377681e+03  ...     -3.461541e+03     0.000000e+00\n",
              "25%    6.000000e+00     -7.399207e+01  ...      4.073402e+01     1.000000e+00\n",
              "50%    8.500000e+00     -7.398181e+01  ...      4.075315e+01     1.000000e+00\n",
              "75%    1.250000e+01     -7.396712e+01  ...      4.076811e+01     2.000000e+00\n",
              "max    1.273310e+03      2.856442e+03  ...      3.345917e+03     2.080000e+02\n",
              "\n",
              "[8 rows x 6 columns]"
            ]
          },
          "metadata": {
            "tags": []
          },
          "execution_count": 7
        }
      ]
    },
    {
      "cell_type": "code",
      "metadata": {
        "id": "ToHHGRTupUCn",
        "colab": {
          "base_uri": "https://localhost:8080/"
        },
        "outputId": "6f9596fb-1276-4d3c-a13e-d4e2dd689762"
      },
      "source": [
        "train.corr()['fare_amount'].sort_values(ascending=False)"
      ],
      "execution_count": null,
      "outputs": [
        {
          "output_type": "execute_result",
          "data": {
            "text/plain": [
              "fare_amount          1.000000\n",
              "passenger_count      0.012751\n",
              "dropoff_longitude    0.008877\n",
              "pickup_longitude     0.008120\n",
              "dropoff_latitude    -0.005669\n",
              "pickup_latitude     -0.007341\n",
              "Name: fare_amount, dtype: float64"
            ]
          },
          "metadata": {
            "tags": []
          },
          "execution_count": 8
        }
      ]
    },
    {
      "cell_type": "code",
      "metadata": {
        "id": "SI_dMG4gA-fj",
        "colab": {
          "base_uri": "https://localhost:8080/"
        },
        "outputId": "c842ba81-d96c-432a-d152-ba5fb3c7ccf9"
      },
      "source": [
        "train.isna().sum()"
      ],
      "execution_count": null,
      "outputs": [
        {
          "output_type": "execute_result",
          "data": {
            "text/plain": [
              "key                   0\n",
              "fare_amount           0\n",
              "pickup_datetime       0\n",
              "pickup_longitude      0\n",
              "pickup_latitude       0\n",
              "dropoff_longitude    19\n",
              "dropoff_latitude     19\n",
              "passenger_count       0\n",
              "dtype: int64"
            ]
          },
          "metadata": {
            "tags": []
          },
          "execution_count": 9
        }
      ]
    },
    {
      "cell_type": "code",
      "metadata": {
        "id": "5zo4l2eipfBZ",
        "colab": {
          "base_uri": "https://localhost:8080/",
          "height": 294
        },
        "outputId": "43384a4d-ba4c-4c25-ebeb-a07641dba74a"
      },
      "source": [
        "test.describe()"
      ],
      "execution_count": null,
      "outputs": [
        {
          "output_type": "execute_result",
          "data": {
            "text/html": [
              "<div>\n",
              "<style scoped>\n",
              "    .dataframe tbody tr th:only-of-type {\n",
              "        vertical-align: middle;\n",
              "    }\n",
              "\n",
              "    .dataframe tbody tr th {\n",
              "        vertical-align: top;\n",
              "    }\n",
              "\n",
              "    .dataframe thead th {\n",
              "        text-align: right;\n",
              "    }\n",
              "</style>\n",
              "<table border=\"1\" class=\"dataframe\">\n",
              "  <thead>\n",
              "    <tr style=\"text-align: right;\">\n",
              "      <th></th>\n",
              "      <th>pickup_longitude</th>\n",
              "      <th>pickup_latitude</th>\n",
              "      <th>dropoff_longitude</th>\n",
              "      <th>dropoff_latitude</th>\n",
              "      <th>passenger_count</th>\n",
              "    </tr>\n",
              "  </thead>\n",
              "  <tbody>\n",
              "    <tr>\n",
              "      <th>count</th>\n",
              "      <td>9914.000000</td>\n",
              "      <td>9914.000000</td>\n",
              "      <td>9914.000000</td>\n",
              "      <td>9914.000000</td>\n",
              "      <td>9914.000000</td>\n",
              "    </tr>\n",
              "    <tr>\n",
              "      <th>mean</th>\n",
              "      <td>-73.974722</td>\n",
              "      <td>40.751041</td>\n",
              "      <td>-73.973657</td>\n",
              "      <td>40.751743</td>\n",
              "      <td>1.671273</td>\n",
              "    </tr>\n",
              "    <tr>\n",
              "      <th>std</th>\n",
              "      <td>0.042774</td>\n",
              "      <td>0.033541</td>\n",
              "      <td>0.039072</td>\n",
              "      <td>0.035435</td>\n",
              "      <td>1.278747</td>\n",
              "    </tr>\n",
              "    <tr>\n",
              "      <th>min</th>\n",
              "      <td>-74.252193</td>\n",
              "      <td>40.573143</td>\n",
              "      <td>-74.263242</td>\n",
              "      <td>40.568973</td>\n",
              "      <td>1.000000</td>\n",
              "    </tr>\n",
              "    <tr>\n",
              "      <th>25%</th>\n",
              "      <td>-73.992501</td>\n",
              "      <td>40.736125</td>\n",
              "      <td>-73.991247</td>\n",
              "      <td>40.735254</td>\n",
              "      <td>1.000000</td>\n",
              "    </tr>\n",
              "    <tr>\n",
              "      <th>50%</th>\n",
              "      <td>-73.982326</td>\n",
              "      <td>40.753051</td>\n",
              "      <td>-73.980015</td>\n",
              "      <td>40.754065</td>\n",
              "      <td>1.000000</td>\n",
              "    </tr>\n",
              "    <tr>\n",
              "      <th>75%</th>\n",
              "      <td>-73.968013</td>\n",
              "      <td>40.767113</td>\n",
              "      <td>-73.964059</td>\n",
              "      <td>40.768757</td>\n",
              "      <td>2.000000</td>\n",
              "    </tr>\n",
              "    <tr>\n",
              "      <th>max</th>\n",
              "      <td>-72.986532</td>\n",
              "      <td>41.709555</td>\n",
              "      <td>-72.990963</td>\n",
              "      <td>41.696683</td>\n",
              "      <td>6.000000</td>\n",
              "    </tr>\n",
              "  </tbody>\n",
              "</table>\n",
              "</div>"
            ],
            "text/plain": [
              "       pickup_longitude  pickup_latitude  ...  dropoff_latitude  passenger_count\n",
              "count       9914.000000      9914.000000  ...       9914.000000      9914.000000\n",
              "mean         -73.974722        40.751041  ...         40.751743         1.671273\n",
              "std            0.042774         0.033541  ...          0.035435         1.278747\n",
              "min          -74.252193        40.573143  ...         40.568973         1.000000\n",
              "25%          -73.992501        40.736125  ...         40.735254         1.000000\n",
              "50%          -73.982326        40.753051  ...         40.754065         1.000000\n",
              "75%          -73.968013        40.767113  ...         40.768757         2.000000\n",
              "max          -72.986532        41.709555  ...         41.696683         6.000000\n",
              "\n",
              "[8 rows x 5 columns]"
            ]
          },
          "metadata": {
            "tags": []
          },
          "execution_count": 10
        }
      ]
    },
    {
      "cell_type": "code",
      "metadata": {
        "id": "2wjr12sWzUuX",
        "colab": {
          "base_uri": "https://localhost:8080/"
        },
        "outputId": "ae75c505-499a-4feb-9878-f3765666f008"
      },
      "source": [
        "test.isna().sum()"
      ],
      "execution_count": null,
      "outputs": [
        {
          "output_type": "execute_result",
          "data": {
            "text/plain": [
              "key                  0\n",
              "pickup_datetime      0\n",
              "pickup_longitude     0\n",
              "pickup_latitude      0\n",
              "dropoff_longitude    0\n",
              "dropoff_latitude     0\n",
              "passenger_count      0\n",
              "dtype: int64"
            ]
          },
          "metadata": {
            "tags": []
          },
          "execution_count": 11
        }
      ]
    },
    {
      "cell_type": "code",
      "metadata": {
        "id": "txtOK64zzYTz",
        "colab": {
          "base_uri": "https://localhost:8080/"
        },
        "outputId": "8fa92fbe-c86b-41ba-adf3-b2676bdffc32"
      },
      "source": [
        "train[train.fare_amount <= 0].shape"
      ],
      "execution_count": null,
      "outputs": [
        {
          "output_type": "execute_result",
          "data": {
            "text/plain": [
              "(163, 8)"
            ]
          },
          "metadata": {
            "tags": []
          },
          "execution_count": 7
        }
      ]
    },
    {
      "cell_type": "code",
      "metadata": {
        "colab": {
          "base_uri": "https://localhost:8080/",
          "height": 293
        },
        "id": "xMYahVp1yNWb",
        "outputId": "f1ea0c1d-ca76-43a6-9710-73cf54b57749"
      },
      "source": [
        "train.fare_amount.hist()"
      ],
      "execution_count": null,
      "outputs": [
        {
          "output_type": "execute_result",
          "data": {
            "text/plain": [
              "<matplotlib.axes._subplots.AxesSubplot at 0x7ff0449bb210>"
            ]
          },
          "metadata": {
            "tags": []
          },
          "execution_count": 6
        },
        {
          "output_type": "display_data",
          "data": {
            "image/png": "[encoded data removed]",
            "text/plain": [
              "<Figure size 432x288 with 1 Axes>"
            ]
          },
          "metadata": {
            "tags": [],
            "needs_background": "light"
          }
        }
      ]
    },
    {
      "cell_type": "code",
      "metadata": {
        "id": "_waPPTrOKdWk",
        "colab": {
          "base_uri": "https://localhost:8080/",
          "height": 297
        },
        "outputId": "35cef0bc-d5d2-4fff-ab54-881d2437ffe2"
      },
      "source": [
        "to_plot = train[train['fare_amount'] > 200]\n",
        "sns.histplot(x='fare_amount', data=to_plot, bins=10)"
      ],
      "execution_count": null,
      "outputs": [
        {
          "output_type": "execute_result",
          "data": {
            "text/plain": [
              "<matplotlib.axes._subplots.AxesSubplot at 0x7fc5d7640810>"
            ]
          },
          "metadata": {
            "tags": []
          },
          "execution_count": 14
        },
        {
          "output_type": "display_data",
          "data": {
            "image/png": "[encoded data removed]",
            "text/plain": [
              "<Figure size 432x288 with 1 Axes>"
            ]
          },
          "metadata": {
            "tags": [],
            "needs_background": "light"
          }
        }
      ]
    },
    {
      "cell_type": "code",
      "metadata": {
        "id": "3gtJ_u-9zejA",
        "colab": {
          "base_uri": "https://localhost:8080/"
        },
        "outputId": "aa011498-ff7b-4ee4-8d74-fa813320c767"
      },
      "source": [
        "train.passenger_count.value_counts()"
      ],
      "execution_count": null,
      "outputs": [
        {
          "output_type": "execute_result",
          "data": {
            "text/plain": [
              "1      1729478\n",
              "2       369359\n",
              "5       176901\n",
              "3       109616\n",
              "4        53202\n",
              "6        52594\n",
              "0         8846\n",
              "208          3\n",
              "9            1\n",
              "Name: passenger_count, dtype: int64"
            ]
          },
          "metadata": {
            "tags": []
          },
          "execution_count": 15
        }
      ]
    },
    {
      "cell_type": "code",
      "metadata": {
        "id": "bOwCvZmAziAP",
        "colab": {
          "base_uri": "https://localhost:8080/"
        },
        "outputId": "402ae3e0-5cd3-48fb-d826-2859cf2355dd"
      },
      "source": [
        "test.passenger_count.value_counts()"
      ],
      "execution_count": null,
      "outputs": [
        {
          "output_type": "execute_result",
          "data": {
            "text/plain": [
              "1    6914\n",
              "2    1474\n",
              "5     696\n",
              "3     447\n",
              "4     206\n",
              "6     177\n",
              "Name: passenger_count, dtype: int64"
            ]
          },
          "metadata": {
            "tags": []
          },
          "execution_count": 16
        }
      ]
    },
    {
      "cell_type": "code",
      "metadata": {
        "id": "M9QAJgEnFm4z",
        "colab": {
          "base_uri": "https://localhost:8080/",
          "height": 309
        },
        "outputId": "62625e34-a3c7-40ff-d00c-92017f2c0efd"
      },
      "source": [
        "sns.countplot(x='passenger_count', data=train)"
      ],
      "execution_count": null,
      "outputs": [
        {
          "output_type": "execute_result",
          "data": {
            "text/plain": [
              "<matplotlib.axes._subplots.AxesSubplot at 0x7fc5d7657690>"
            ]
          },
          "metadata": {
            "tags": []
          },
          "execution_count": 17
        },
        {
          "output_type": "display_data",
          "data": {
            "image/png": "[encoded data removed]",
            "text/plain": [
              "<Figure size 432x288 with 1 Axes>"
            ]
          },
          "metadata": {
            "tags": [],
            "needs_background": "light"
          }
        }
      ]
    },
    {
      "cell_type": "code",
      "metadata": {
        "id": "SdL3QIe3pq1T",
        "colab": {
          "base_uri": "https://localhost:8080/",
          "height": 171
        },
        "outputId": "8b6ef9a6-6f5e-4fc0-ca86-abcd1d53fcb4"
      },
      "source": [
        "data_sets = [train, test]\n",
        "coords_cols = ['pickup_latitude', 'pickup_longitude', 'dropoff_latitude', 'dropoff_longitude']\n",
        "extr_vals = {'Train':{}, 'Test':{}}\n",
        "\n",
        "for coord in coords_cols:\n",
        "    for data_set in data_sets:\n",
        "        extr_vals[data_set.name][coord+'_range'] = []\n",
        "        extr_vals[data_set.name][coord+'_range'].append(data_set[coord].min())\n",
        "        extr_vals[data_set.name][coord+'_range'].append(data_set[coord].max())\n",
        "del data_sets\n",
        "\n",
        "pd.DataFrame.from_dict(extr_vals)"
      ],
      "execution_count": null,
      "outputs": [
        {
          "output_type": "execute_result",
          "data": {
            "text/html": [
              "<div>\n",
              "<style scoped>\n",
              "    .dataframe tbody tr th:only-of-type {\n",
              "        vertical-align: middle;\n",
              "    }\n",
              "\n",
              "    .dataframe tbody tr th {\n",
              "        vertical-align: top;\n",
              "    }\n",
              "\n",
              "    .dataframe thead th {\n",
              "        text-align: right;\n",
              "    }\n",
              "</style>\n",
              "<table border=\"1\" class=\"dataframe\">\n",
              "  <thead>\n",
              "    <tr style=\"text-align: right;\">\n",
              "      <th></th>\n",
              "      <th>Train</th>\n",
              "      <th>Test</th>\n",
              "    </tr>\n",
              "  </thead>\n",
              "  <tbody>\n",
              "    <tr>\n",
              "      <th>pickup_latitude_range</th>\n",
              "      <td>[-3458.6647020000005, 2912.464657]</td>\n",
              "      <td>[40.573143, 41.709555]</td>\n",
              "    </tr>\n",
              "    <tr>\n",
              "      <th>pickup_longitude_range</th>\n",
              "      <td>[-3377.6809350000003, 2856.44156]</td>\n",
              "      <td>[-74.252193, -72.986532]</td>\n",
              "    </tr>\n",
              "    <tr>\n",
              "      <th>dropoff_latitude_range</th>\n",
              "      <td>[-3461.540872, 3345.9173530000003]</td>\n",
              "      <td>[40.568973, 41.696683]</td>\n",
              "    </tr>\n",
              "    <tr>\n",
              "      <th>dropoff_longitude_range</th>\n",
              "      <td>[-3383.2966079999997, 3414.306675]</td>\n",
              "      <td>[-74.263242, -72.990963]</td>\n",
              "    </tr>\n",
              "  </tbody>\n",
              "</table>\n",
              "</div>"
            ],
            "text/plain": [
              "                                                      Train                      Test\n",
              "pickup_latitude_range    [-3458.6647020000005, 2912.464657]    [40.573143, 41.709555]\n",
              "pickup_longitude_range    [-3377.6809350000003, 2856.44156]  [-74.252193, -72.986532]\n",
              "dropoff_latitude_range   [-3461.540872, 3345.9173530000003]    [40.568973, 41.696683]\n",
              "dropoff_longitude_range  [-3383.2966079999997, 3414.306675]  [-74.263242, -72.990963]"
            ]
          },
          "metadata": {
            "tags": []
          },
          "execution_count": 18
        }
      ]
    },
    {
      "cell_type": "code",
      "metadata": {
        "id": "pYpLIK_cFqOt",
        "colab": {
          "base_uri": "https://localhost:8080/",
          "height": 297
        },
        "outputId": "bd4659f6-542a-41f8-c190-22654ef2f232"
      },
      "source": [
        "sns.scatterplot(x='pickup_longitude', y='pickup_latitude', data=train)"
      ],
      "execution_count": null,
      "outputs": [
        {
          "output_type": "execute_result",
          "data": {
            "text/plain": [
              "<matplotlib.axes._subplots.AxesSubplot at 0x7fc5d5696790>"
            ]
          },
          "metadata": {
            "tags": []
          },
          "execution_count": 19
        },
        {
          "output_type": "display_data",
          "data": {
            "image/png": "[encoded data removed]",
            "text/plain": [
              "<Figure size 432x288 with 1 Axes>"
            ]
          },
          "metadata": {
            "tags": [],
            "needs_background": "light"
          }
        }
      ]
    },
    {
      "cell_type": "code",
      "metadata": {
        "id": "S97Av55eFvTb",
        "colab": {
          "base_uri": "https://localhost:8080/",
          "height": 297
        },
        "outputId": "9375f17c-25df-4cf2-b938-3da64ff0bf58"
      },
      "source": [
        "sns.scatterplot(x='dropoff_longitude', y='dropoff_latitude', data=train)"
      ],
      "execution_count": null,
      "outputs": [
        {
          "output_type": "execute_result",
          "data": {
            "text/plain": [
              "<matplotlib.axes._subplots.AxesSubplot at 0x7fc5d8c37b90>"
            ]
          },
          "metadata": {
            "tags": []
          },
          "execution_count": 20
        },
        {
          "output_type": "display_data",
          "data": {
            "image/png": "[encoded data removed]",
            "text/plain": [
              "<Figure size 432x288 with 1 Axes>"
            ]
          },
          "metadata": {
            "tags": [],
            "needs_background": "light"
          }
        }
      ]
    },
    {
      "cell_type": "code",
      "metadata": {
        "id": "hgjeHSEs04Os"
      },
      "source": [
        "coordinates = {'min_long': min(test.pickup_longitude.min(), test.dropoff_longitude.min()),\n",
        "              'max_long': max(test.pickup_longitude.max(), test.dropoff_longitude.max()),\n",
        "              'min_lat': min(test.pickup_latitude.min(), test.dropoff_latitude.min()),\n",
        "              'max_lat' : min(test.pickup_latitude.max(), test.dropoff_latitude.max())}"
      ],
      "execution_count": null,
      "outputs": []
    },
    {
      "cell_type": "code",
      "metadata": {
        "id": "8FIja7ES1aDP"
      },
      "source": [
        "# limiting the axes while plotting to get a better observation of the data\n",
        "city_long_border = (-74.03, -73.75)\n",
        "city_lat_border = (40.63, 40.85)"
      ],
      "execution_count": null,
      "outputs": []
    },
    {
      "cell_type": "code",
      "metadata": {
        "id": "JnHAPFqi1dJt",
        "colab": {
          "base_uri": "https://localhost:8080/",
          "height": 301
        },
        "outputId": "f7652dee-072e-404e-fde1-92f226980880"
      },
      "source": [
        "train[(train.pickup_longitude >= coordinates['min_long']) & \n",
        "      (train.pickup_longitude <= coordinates['max_long']) & \n",
        "      (train.pickup_latitude >= coordinates['min_lat']) & \n",
        "      (train.pickup_latitude <= coordinates['max_lat']) &\n",
        "      (train.dropoff_longitude >= coordinates['min_long']) &\n",
        "      (train.dropoff_longitude <= coordinates['max_long']) &\n",
        "      (train.dropoff_latitude >= coordinates['min_lat']) & \n",
        "      (train.dropoff_latitude<= coordinates['max_lat'])].plot(\n",
        "        kind ='scatter', x='pickup_longitude', y='pickup_latitude', s=.02, alpha=0.4)\n",
        "\n",
        "plt.ylim(city_lat_border)\n",
        "plt.xlim(city_long_border)"
      ],
      "execution_count": null,
      "outputs": [
        {
          "output_type": "execute_result",
          "data": {
            "text/plain": [
              "(-74.03, -73.75)"
            ]
          },
          "metadata": {
            "tags": []
          },
          "execution_count": 23
        },
        {
          "output_type": "display_data",
          "data": {
            "image/png": "[encoded data removed]",
            "text/plain": [
              "<Figure size 432x288 with 1 Axes>"
            ]
          },
          "metadata": {
            "tags": [],
            "needs_background": "light"
          }
        }
      ]
    },
    {
      "cell_type": "markdown",
      "metadata": {
        "id": "5DC95mLe1hk2"
      },
      "source": [
        "Data cleaning"
      ]
    },
    {
      "cell_type": "code",
      "metadata": {
        "id": "BdcVs7iF1r5g"
      },
      "source": [
        "train.dropna(inplace=True)\n",
        "\n",
        "train = train[(train.fare_amount > 0) & (train.fare_amount < 150)]\n",
        "train = train[(train.passenger_count > 0) & (train.passenger_count <= 6)]\n",
        "\n",
        "train = train[(train.pickup_longitude >= coordinates['min_long']) &\n",
        "              (train.pickup_longitude <= coordinates['max_long'])]\n",
        "train = train[(train.pickup_latitude >= coordinates['min_lat']) &\n",
        "              (train.pickup_latitude <= coordinates['max_lat'])]\n",
        "train = train[(train.dropoff_longitude >= coordinates['min_long']) &\n",
        "              (train.dropoff_longitude <= coordinates['max_long'])]\n",
        "train = train[(train.dropoff_latitude >= coordinates['min_lat']) &\n",
        "              (train.dropoff_latitude <= coordinates['max_lat'])]"
      ],
      "execution_count": null,
      "outputs": []
    },
    {
      "cell_type": "markdown",
      "metadata": {
        "id": "HFJYekyU5HWx"
      },
      "source": [
        "Feature Engineering"
      ]
    },
    {
      "cell_type": "code",
      "metadata": {
        "id": "Z8d1k5ulB-9P"
      },
      "source": [
        "def add_features(df):\n",
        "        df.drop(['pickup_datetime'], axis=1, inplace=True)\n",
        "        df['key'] = pd.to_datetime(df.key, format=\"%Y-%m-%d %H:%M:%S\")\n",
        "        df['year'] = df.key.dt.year\n",
        "        df['month'] = df.key.dt.month\n",
        "        df['day'] = df.key.dt.day\n",
        "        df['hour'] = df.key.dt.hour\n",
        "        df['weekday'] = df.key.dt.weekday\n",
        "\n",
        "        df['distance'] = df.apply(lambda row: np.round(haversine((row['pickup_latitude'],\n",
        "                                                         row['pickup_longitude']),\n",
        "                                                        (row['dropoff_latitude'],\n",
        "                                                         row['dropoff_longitude'])), 3), \n",
        "                                                         axis=1)\n",
        "        df['diff_lat'] = np.round(abs(df.pickup_latitude - df.dropoff_latitude), 3)\n",
        "        df['diff_long'] = np.round(abs(df.pickup_longitude - df.dropoff_longitude), 3)\n",
        "\n",
        "        return df"
      ],
      "execution_count": null,
      "outputs": []
    },
    {
      "cell_type": "markdown",
      "metadata": {
        "id": "2ELMc21Q6cpQ"
      },
      "source": [
        "Normalization"
      ]
    },
    {
      "cell_type": "code",
      "metadata": {
        "id": "eZP8lH3N6e_x"
      },
      "source": [
        "def normalize(df):\n",
        "        df = pd.get_dummies(df, columns=['weekday'], drop_first=True)\n",
        "\n",
        "        df.year -= df.year.min()\n",
        "        df.year = np.round(df.year/df.year.max(), 3)\n",
        "\n",
        "        df['month_sin'] = np.round(np.sin(2*np.pi*(df.month - 1)/12), 3)\n",
        "        df['month_cos'] = np.round(np.cos(2*np.pi*(df.month - 1)/12), 3)\n",
        "\n",
        "        df['day_sin'] = np.round(np.sin(2*np.pi*(df.day - 1)/31), 3)\n",
        "        df['day_cos'] = np.round(np.cos(2*np.pi*(df.day - 1)/31), 3)\n",
        "\n",
        "        df['hour_sin'] = np.round(np.sin(2*np.pi*(df.hour - 1)/24), 3)\n",
        "        df['hour_cos'] = np.round(np.cos(2*np.pi*(df.hour - 1)/24), 3)\n",
        "\n",
        "        df.pickup_latitude = np.round(coordinates['max_lat'] - df.pickup_latitude, 3)\n",
        "        df.dropoff_latitude = np.round(coordinates['max_lat'] - df.dropoff_latitude, 3)\n",
        "        df.pickup_longitude = np.round(coordinates['max_long'] - df.pickup_longitude, 3)\n",
        "        df.dropoff_longitude = np.round(coordinates['max_long'] - df.dropoff_longitude, 3)\n",
        "\n",
        "        df.drop(['month', 'day', 'hour'], axis=1, inplace=True)\n",
        "\n",
        "        return df"
      ],
      "execution_count": null,
      "outputs": []
    },
    {
      "cell_type": "markdown",
      "metadata": {
        "id": "c5hrOiLQ7eb9"
      },
      "source": [
        "Data Processing"
      ]
    },
    {
      "cell_type": "code",
      "metadata": {
        "id": "8X0k93iu7a_t"
      },
      "source": [
        "train = add_features(train)\n",
        "train = normalize(train)\n",
        "\n",
        "test = add_features(test)\n",
        "test = normalize(test)"
      ],
      "execution_count": null,
      "outputs": []
    },
    {
      "cell_type": "code",
      "metadata": {
        "id": "P2rVVfrx8b_D"
      },
      "source": [
        "X_train = train.drop(['fare_amount', 'key'], axis=1)\n",
        "y_train = train.fare_amount\n",
        "\n",
        "X_test = test.drop('key', axis=1)"
      ],
      "execution_count": null,
      "outputs": []
    },
    {
      "cell_type": "code",
      "metadata": {
        "id": "5076I8DZGpix",
        "colab": {
          "base_uri": "https://localhost:8080/",
          "height": 435
        },
        "outputId": "71f30a13-ae6c-48ce-92ba-f72912333426"
      },
      "source": [
        "X_train"
      ],
      "execution_count": null,
      "outputs": [
        {
          "output_type": "execute_result",
          "data": {
            "text/html": [
              "<div>\n",
              "<style scoped>\n",
              "    .dataframe tbody tr th:only-of-type {\n",
              "        vertical-align: middle;\n",
              "    }\n",
              "\n",
              "    .dataframe tbody tr th {\n",
              "        vertical-align: top;\n",
              "    }\n",
              "\n",
              "    .dataframe thead th {\n",
              "        text-align: right;\n",
              "    }\n",
              "</style>\n",
              "<table border=\"1\" class=\"dataframe\">\n",
              "  <thead>\n",
              "    <tr style=\"text-align: right;\">\n",
              "      <th></th>\n",
              "      <th>pickup_longitude</th>\n",
              "      <th>pickup_latitude</th>\n",
              "      <th>dropoff_longitude</th>\n",
              "      <th>dropoff_latitude</th>\n",
              "      <th>passenger_count</th>\n",
              "      <th>year</th>\n",
              "      <th>distance</th>\n",
              "      <th>diff_lat</th>\n",
              "      <th>diff_long</th>\n",
              "      <th>weekday_1</th>\n",
              "      <th>weekday_2</th>\n",
              "      <th>weekday_3</th>\n",
              "      <th>weekday_4</th>\n",
              "      <th>weekday_5</th>\n",
              "      <th>weekday_6</th>\n",
              "      <th>month_sin</th>\n",
              "      <th>month_cos</th>\n",
              "      <th>day_sin</th>\n",
              "      <th>day_cos</th>\n",
              "      <th>hour_sin</th>\n",
              "      <th>hour_cos</th>\n",
              "    </tr>\n",
              "  </thead>\n",
              "  <tbody>\n",
              "    <tr>\n",
              "      <th>0</th>\n",
              "      <td>0.858</td>\n",
              "      <td>0.975</td>\n",
              "      <td>0.855</td>\n",
              "      <td>0.984</td>\n",
              "      <td>1</td>\n",
              "      <td>0.000</td>\n",
              "      <td>1.031</td>\n",
              "      <td>0.009</td>\n",
              "      <td>0.003</td>\n",
              "      <td>0</td>\n",
              "      <td>0</td>\n",
              "      <td>0</td>\n",
              "      <td>0</td>\n",
              "      <td>0</td>\n",
              "      <td>0</td>\n",
              "      <td>0.500</td>\n",
              "      <td>-0.866</td>\n",
              "      <td>0.299</td>\n",
              "      <td>-0.954</td>\n",
              "      <td>-0.866</td>\n",
              "      <td>-0.500</td>\n",
              "    </tr>\n",
              "    <tr>\n",
              "      <th>1</th>\n",
              "      <td>1.030</td>\n",
              "      <td>0.985</td>\n",
              "      <td>0.993</td>\n",
              "      <td>0.915</td>\n",
              "      <td>1</td>\n",
              "      <td>0.167</td>\n",
              "      <td>8.450</td>\n",
              "      <td>0.071</td>\n",
              "      <td>0.037</td>\n",
              "      <td>1</td>\n",
              "      <td>0</td>\n",
              "      <td>0</td>\n",
              "      <td>0</td>\n",
              "      <td>0</td>\n",
              "      <td>0</td>\n",
              "      <td>0.000</td>\n",
              "      <td>1.000</td>\n",
              "      <td>0.725</td>\n",
              "      <td>0.689</td>\n",
              "      <td>-0.707</td>\n",
              "      <td>-0.707</td>\n",
              "    </tr>\n",
              "    <tr>\n",
              "      <th>2</th>\n",
              "      <td>0.996</td>\n",
              "      <td>0.935</td>\n",
              "      <td>1.005</td>\n",
              "      <td>0.946</td>\n",
              "      <td>2</td>\n",
              "      <td>0.333</td>\n",
              "      <td>1.390</td>\n",
              "      <td>0.011</td>\n",
              "      <td>0.009</td>\n",
              "      <td>0</td>\n",
              "      <td>0</td>\n",
              "      <td>1</td>\n",
              "      <td>0</td>\n",
              "      <td>0</td>\n",
              "      <td>0</td>\n",
              "      <td>-0.500</td>\n",
              "      <td>-0.866</td>\n",
              "      <td>-0.299</td>\n",
              "      <td>-0.954</td>\n",
              "      <td>-0.259</td>\n",
              "      <td>0.966</td>\n",
              "    </tr>\n",
              "    <tr>\n",
              "      <th>3</th>\n",
              "      <td>1.001</td>\n",
              "      <td>0.964</td>\n",
              "      <td>1.005</td>\n",
              "      <td>0.939</td>\n",
              "      <td>1</td>\n",
              "      <td>0.500</td>\n",
              "      <td>2.799</td>\n",
              "      <td>0.025</td>\n",
              "      <td>0.004</td>\n",
              "      <td>0</td>\n",
              "      <td>0</td>\n",
              "      <td>0</td>\n",
              "      <td>0</td>\n",
              "      <td>1</td>\n",
              "      <td>0</td>\n",
              "      <td>1.000</td>\n",
              "      <td>0.000</td>\n",
              "      <td>-0.791</td>\n",
              "      <td>-0.612</td>\n",
              "      <td>0.707</td>\n",
              "      <td>0.707</td>\n",
              "    </tr>\n",
              "    <tr>\n",
              "      <th>4</th>\n",
              "      <td>0.982</td>\n",
              "      <td>0.929</td>\n",
              "      <td>0.970</td>\n",
              "      <td>0.913</td>\n",
              "      <td>1</td>\n",
              "      <td>0.167</td>\n",
              "      <td>1.999</td>\n",
              "      <td>0.016</td>\n",
              "      <td>0.011</td>\n",
              "      <td>1</td>\n",
              "      <td>0</td>\n",
              "      <td>0</td>\n",
              "      <td>0</td>\n",
              "      <td>0</td>\n",
              "      <td>0</td>\n",
              "      <td>0.866</td>\n",
              "      <td>0.500</td>\n",
              "      <td>0.999</td>\n",
              "      <td>-0.051</td>\n",
              "      <td>1.000</td>\n",
              "      <td>0.000</td>\n",
              "    </tr>\n",
              "    <tr>\n",
              "      <th>...</th>\n",
              "      <td>...</td>\n",
              "      <td>...</td>\n",
              "      <td>...</td>\n",
              "      <td>...</td>\n",
              "      <td>...</td>\n",
              "      <td>...</td>\n",
              "      <td>...</td>\n",
              "      <td>...</td>\n",
              "      <td>...</td>\n",
              "      <td>...</td>\n",
              "      <td>...</td>\n",
              "      <td>...</td>\n",
              "      <td>...</td>\n",
              "      <td>...</td>\n",
              "      <td>...</td>\n",
              "      <td>...</td>\n",
              "      <td>...</td>\n",
              "      <td>...</td>\n",
              "      <td>...</td>\n",
              "      <td>...</td>\n",
              "      <td>...</td>\n",
              "    </tr>\n",
              "    <tr>\n",
              "      <th>2499995</th>\n",
              "      <td>0.982</td>\n",
              "      <td>0.943</td>\n",
              "      <td>0.965</td>\n",
              "      <td>1.007</td>\n",
              "      <td>1</td>\n",
              "      <td>0.500</td>\n",
              "      <td>7.353</td>\n",
              "      <td>0.065</td>\n",
              "      <td>0.018</td>\n",
              "      <td>0</td>\n",
              "      <td>0</td>\n",
              "      <td>0</td>\n",
              "      <td>1</td>\n",
              "      <td>0</td>\n",
              "      <td>0</td>\n",
              "      <td>-0.866</td>\n",
              "      <td>-0.500</td>\n",
              "      <td>0.485</td>\n",
              "      <td>-0.874</td>\n",
              "      <td>-0.500</td>\n",
              "      <td>0.866</td>\n",
              "    </tr>\n",
              "    <tr>\n",
              "      <th>2499996</th>\n",
              "      <td>0.999</td>\n",
              "      <td>0.958</td>\n",
              "      <td>0.996</td>\n",
              "      <td>0.928</td>\n",
              "      <td>1</td>\n",
              "      <td>0.000</td>\n",
              "      <td>3.389</td>\n",
              "      <td>0.030</td>\n",
              "      <td>0.003</td>\n",
              "      <td>0</td>\n",
              "      <td>1</td>\n",
              "      <td>0</td>\n",
              "      <td>0</td>\n",
              "      <td>0</td>\n",
              "      <td>0</td>\n",
              "      <td>-0.866</td>\n",
              "      <td>-0.500</td>\n",
              "      <td>0.999</td>\n",
              "      <td>-0.051</td>\n",
              "      <td>1.000</td>\n",
              "      <td>0.000</td>\n",
              "    </tr>\n",
              "    <tr>\n",
              "      <th>2499997</th>\n",
              "      <td>0.994</td>\n",
              "      <td>0.931</td>\n",
              "      <td>1.014</td>\n",
              "      <td>0.968</td>\n",
              "      <td>1</td>\n",
              "      <td>0.000</td>\n",
              "      <td>4.427</td>\n",
              "      <td>0.037</td>\n",
              "      <td>0.020</td>\n",
              "      <td>1</td>\n",
              "      <td>0</td>\n",
              "      <td>0</td>\n",
              "      <td>0</td>\n",
              "      <td>0</td>\n",
              "      <td>0</td>\n",
              "      <td>-1.000</td>\n",
              "      <td>-0.000</td>\n",
              "      <td>-0.849</td>\n",
              "      <td>0.529</td>\n",
              "      <td>-1.000</td>\n",
              "      <td>-0.000</td>\n",
              "    </tr>\n",
              "    <tr>\n",
              "      <th>2499998</th>\n",
              "      <td>0.998</td>\n",
              "      <td>0.937</td>\n",
              "      <td>0.952</td>\n",
              "      <td>0.894</td>\n",
              "      <td>2</td>\n",
              "      <td>0.167</td>\n",
              "      <td>6.120</td>\n",
              "      <td>0.043</td>\n",
              "      <td>0.045</td>\n",
              "      <td>0</td>\n",
              "      <td>0</td>\n",
              "      <td>0</td>\n",
              "      <td>0</td>\n",
              "      <td>1</td>\n",
              "      <td>0</td>\n",
              "      <td>0.866</td>\n",
              "      <td>-0.500</td>\n",
              "      <td>-0.571</td>\n",
              "      <td>0.821</td>\n",
              "      <td>-0.707</td>\n",
              "      <td>0.707</td>\n",
              "    </tr>\n",
              "    <tr>\n",
              "      <th>2499999</th>\n",
              "      <td>1.011</td>\n",
              "      <td>0.973</td>\n",
              "      <td>0.988</td>\n",
              "      <td>0.943</td>\n",
              "      <td>1</td>\n",
              "      <td>0.500</td>\n",
              "      <td>3.824</td>\n",
              "      <td>0.029</td>\n",
              "      <td>0.024</td>\n",
              "      <td>0</td>\n",
              "      <td>0</td>\n",
              "      <td>0</td>\n",
              "      <td>0</td>\n",
              "      <td>0</td>\n",
              "      <td>1</td>\n",
              "      <td>0.000</td>\n",
              "      <td>-1.000</td>\n",
              "      <td>0.988</td>\n",
              "      <td>0.151</td>\n",
              "      <td>-0.966</td>\n",
              "      <td>-0.259</td>\n",
              "    </tr>\n",
              "  </tbody>\n",
              "</table>\n",
              "<p>2437837 rows × 21 columns</p>\n",
              "</div>"
            ],
            "text/plain": [
              "         pickup_longitude  pickup_latitude  ...  hour_sin  hour_cos\n",
              "0                   0.858            0.975  ...    -0.866    -0.500\n",
              "1                   1.030            0.985  ...    -0.707    -0.707\n",
              "2                   0.996            0.935  ...    -0.259     0.966\n",
              "3                   1.001            0.964  ...     0.707     0.707\n",
              "4                   0.982            0.929  ...     1.000     0.000\n",
              "...                   ...              ...  ...       ...       ...\n",
              "2499995             0.982            0.943  ...    -0.500     0.866\n",
              "2499996             0.999            0.958  ...     1.000     0.000\n",
              "2499997             0.994            0.931  ...    -1.000    -0.000\n",
              "2499998             0.998            0.937  ...    -0.707     0.707\n",
              "2499999             1.011            0.973  ...    -0.966    -0.259\n",
              "\n",
              "[2437837 rows x 21 columns]"
            ]
          },
          "metadata": {
            "tags": []
          },
          "execution_count": 29
        }
      ]
    },
    {
      "cell_type": "code",
      "metadata": {
        "id": "bm6Ziqj8OGjL",
        "colab": {
          "base_uri": "https://localhost:8080/",
          "height": 280
        },
        "outputId": "1e00a6aa-dc96-4b05-b50c-15c11b515fb9"
      },
      "source": [
        "# encoded cyclical features\n",
        "X_train.sample(500).plot.scatter('hour_sin','hour_cos').set_aspect('equal')"
      ],
      "execution_count": null,
      "outputs": [
        {
          "output_type": "display_data",
          "data": {
            "image/png": "[encoded data removed]",
            "text/plain": [
              "<Figure size 432x288 with 1 Axes>"
            ]
          },
          "metadata": {
            "tags": [],
            "needs_background": "light"
          }
        }
      ]
    },
    {
      "cell_type": "markdown",
      "metadata": {
        "id": "p9ACfcP39q0G"
      },
      "source": [
        "Training and Predictions"
      ]
    },
    {
      "cell_type": "code",
      "metadata": {
        "colab": {
          "base_uri": "https://localhost:8080/"
        },
        "id": "VhXoM9nStjKq",
        "outputId": "a774335a-f122-45e6-fff6-63e3cc258ad8"
      },
      "source": [
        "# try N1 -- 2_500_000 lines\n",
        "# RMSE: 5.002\n",
        "\"\"\"\n",
        "Xtrain, Xtest, ytrain, ytest = train_test_split(X_train, y_train, test_size=0.01)\n",
        "\n",
        "lr = LinearRegression() \n",
        "lr.fit(Xtrain, ytrain)\n",
        "lr.score(Xtest, ytest) # r2\n",
        "\"\"\""
      ],
      "execution_count": null,
      "outputs": [
        {
          "output_type": "execute_result",
          "data": {
            "text/plain": [
              "0.7274903958939682"
            ]
          },
          "metadata": {
            "tags": []
          },
          "execution_count": 34
        }
      ]
    },
    {
      "cell_type": "code",
      "metadata": {
        "id": "pfxZC9oivrhe"
      },
      "source": [
        "\"\"\"\n",
        "predictions = lr.predict(X_test)\n",
        "\"\"\""
      ],
      "execution_count": null,
      "outputs": []
    },
    {
      "cell_type": "code",
      "metadata": {
        "id": "M-O3CBPPmcwW"
      },
      "source": [
        "# try N2 -- 200_000 lines\n",
        "# best params: C = 10\n",
        "# RMSE: 4.39\n",
        "\"\"\"\n",
        "params = {'C': np.logspace(-3, 1, 20)}\n",
        "\n",
        "svr = SVR(kernel='linear')\n",
        "\n",
        "gs_svr = GridSearchCV(svr, params, scoring='neg_mean_squared_error', cv=3, n_jobs=-1)\n",
        "gs_svr.fit(X_train, labels)\n",
        "\n",
        "best_model = gs_svr.best_estimator_\n",
        "gs_svr.best_params_\n",
        "\"\"\""
      ],
      "execution_count": null,
      "outputs": []
    },
    {
      "cell_type": "code",
      "metadata": {
        "id": "EkOa5GHH9tVx"
      },
      "source": [
        "# try N3 -- 1_000_000 lines\n",
        "# best params: max_features = 6, n_estimators = 50\n",
        "# RMSE: 3.23\n",
        "\"\"\"\n",
        "param_grid = [\n",
        "    {'n_estimators': [3, 10, 30, 40, 50], 'max_features': [2, 6, 8]},\n",
        "    {'bootstrap': [False], 'n_estimators': [3, 10], 'max_features': [2, 3, 4]}\n",
        "]\n",
        "\n",
        "forest_reg = RandomForestRegressor()\n",
        "\n",
        "grid_search = GridSearchCV(forest_reg, param_grid, cv=5,\n",
        "                          scoring = 'neg_mean_squared_error',\n",
        "                          return_train_score=True, n_jobs=-1)\n",
        "\n",
        "grid_search.fit(X_train, y_train)\n",
        "best_model = grid_search.best_estimator_\n",
        "grid_search.best_params_\n",
        "\"\"\""
      ],
      "execution_count": null,
      "outputs": []
    },
    {
      "cell_type": "code",
      "metadata": {
        "id": "yBExkA_o9__b"
      },
      "source": [
        "\"\"\"\n",
        "predictions = best_model.predict(X_test)\n",
        "\"\"\""
      ],
      "execution_count": null,
      "outputs": []
    },
    {
      "cell_type": "code",
      "metadata": {
        "id": "7ScNJxTsShnh"
      },
      "source": [
        "# try N4 -- 2_500_000 lines\n",
        "# RMSE: 3.162\n",
        "\"\"\"\n",
        "forest_reg = RandomForestRegressor(max_features=6, n_estimators=50)\n",
        "forest_reg.fit(X_train, y_train)\n",
        "\n",
        "predictions = forest_reg.predict(X_test)\n",
        "\"\"\""
      ],
      "execution_count": null,
      "outputs": []
    },
    {
      "cell_type": "code",
      "metadata": {
        "id": "dpjC63gnuen-"
      },
      "source": [
        "def modelfit(alg, Xtrain, Xtest, ytrain, useTrainCV=True, cv_folds=5, \\\n",
        "             early_stopping_rounds=50, predict=False):\n",
        "    \n",
        "    if useTrainCV:\n",
        "        xgb_param = alg.get_xgb_params()\n",
        "        xgtrain = xgb.DMatrix(Xtrain, label=ytrain)\n",
        "        xgtest = xgb.DMatrix(Xtest)\n",
        "        cvresult = xgb.cv(xgb_param, xgtrain, num_boost_round=alg.get_params()['n_estimators'],\n",
        "                          nfold=cv_folds, metrics='rmse',\n",
        "                          early_stopping_rounds=early_stopping_rounds, verbose_eval=True)\n",
        "        alg.set_params(n_estimators=cvresult.shape[0])\n",
        "    \n",
        "    #Fit the algorithm on the data\n",
        "    alg.fit(Xtrain, ytrain, eval_metric='rmse')\n",
        "        \n",
        "    #Predict training set:\n",
        "    dtrain_predictions = alg.predict(Xtrain)\n",
        "        \n",
        "    #Print model report:\n",
        "    print(\"\\nModel Report\")\n",
        "    print(\"RMSE : %.4g\" % metrics.mean_squared_error(ytrain, dtrain_predictions, squared=False))\n",
        "    \n",
        "    #Predict on testing data:\n",
        "    dtest_predictions = alg.predict(Xtest)\n",
        "                \n",
        "    feat_imp = pd.Series(alg.get_booster().get_fscore()).sort_values(ascending=False)\n",
        "    feat_imp.plot(kind='bar', title='Feature Importances')\n",
        "    plt.ylabel('Feature Importance Score')\n",
        "\n",
        "    if predict:\n",
        "        return dtest_predictions"
      ],
      "execution_count": null,
      "outputs": []
    },
    {
      "cell_type": "code",
      "metadata": {
        "id": "jhlJKN-sam5l"
      },
      "source": [
        "# try 5 -- 1_000_000 lines, disturbed\n",
        "# best before interruption: [1118]\ttrain-rmse:2.83293+0.00504668\ttest-rmse:3.41815+0.0306523\n",
        "\"\"\"\n",
        "xgb3 = XGBRegressor(\n",
        "        learning_rate=0.15,\n",
        "        n_estimators=1500,\n",
        "        max_depth = 6,\n",
        "        min_child_weight=5,\n",
        "        gamma = 0.6,\n",
        "        subsample = 1,\n",
        "        colsample_bytree=0.9,\n",
        "        reg_alpha=100,\n",
        "        objective= 'reg:squarederror',\n",
        "        nthread=6,\n",
        "        scale_pos_weight=1,\n",
        "        seed=27)\n",
        "\n",
        "preds = modelfit(xgb3, X_train, X_test, y_train, predict=True)\n",
        "\"\"\""
      ],
      "execution_count": null,
      "outputs": []
    },
    {
      "cell_type": "code",
      "metadata": {
        "id": "rtdpHJB1aOyk"
      },
      "source": [
        "# try 6 -- 100_000 lines, fewer features\n",
        "# RMSE: 3.48\n",
        "X_train = train.drop(['fare_amount', 'key', 'passenger_count',\n",
        "                      'year', 'month_sin', 'month_cos',\n",
        "                      'hour_sin', 'hour_cos', 'day_sin', 'day_cos'], axis=1)\n",
        "y_train = train.fare_amount\n",
        "\n",
        "X_test = test.drop(['key', 'passenger_count',\n",
        "                    'year', 'month_sin', 'month_cos',\n",
        "                    'hour_sin', 'hour_cos', 'day_sin', 'day_cos'], axis=1)"
      ],
      "execution_count": null,
      "outputs": []
    },
    {
      "cell_type": "code",
      "metadata": {
        "colab": {
          "base_uri": "https://localhost:8080/",
          "height": 1000
        },
        "id": "FeFBY1kQbWKR",
        "outputId": "0862092a-6e80-4ed5-a803-573706d37ea8"
      },
      "source": [
        "xgb3 = XGBRegressor(\n",
        "        learning_rate=0.15,\n",
        "        n_estimators=1500,\n",
        "        max_depth = 6,\n",
        "        min_child_weight=5,\n",
        "        gamma = 0.6,\n",
        "        subsample = 1,\n",
        "        colsample_bytree=0.9,\n",
        "        reg_alpha=100,\n",
        "        objective= 'reg:squarederror',\n",
        "        nthread=6,\n",
        "        scale_pos_weight=1,\n",
        "        seed=27)\n",
        "\n",
        "preds = modelfit(xgb3, X_train, X_test, y_train, predict=True)"
      ],
      "execution_count": null,
      "outputs": [
        {
          "output_type": "stream",
          "text": [
            "[0]\ttrain-rmse:12.4374+0.0129972\ttest-rmse:12.4386+0.0572105\n",
            "[1]\ttrain-rmse:10.8032+0.0129051\ttest-rmse:10.8059+0.055282\n",
            "[2]\ttrain-rmse:9.44363+0.0107763\ttest-rmse:9.44835+0.0559621\n",
            "[3]\ttrain-rmse:8.3188+0.0101465\ttest-rmse:8.3258+0.0546288\n",
            "[4]\ttrain-rmse:7.40445+0.00583173\ttest-rmse:7.4151+0.0672189\n",
            "[5]\ttrain-rmse:6.65499+0.00525891\ttest-rmse:6.66781+0.0622146\n",
            "[6]\ttrain-rmse:6.052+0.00420119\ttest-rmse:6.06787+0.0611458\n",
            "[7]\ttrain-rmse:5.57098+0.00229554\ttest-rmse:5.59103+0.0596767\n",
            "[8]\ttrain-rmse:5.19219+0.00245267\ttest-rmse:5.21567+0.0601858\n",
            "[9]\ttrain-rmse:4.89774+0.0064279\ttest-rmse:4.9244+0.0544734\n",
            "[10]\ttrain-rmse:4.66707+0.00758324\ttest-rmse:4.69688+0.051416\n",
            "[11]\ttrain-rmse:4.49127+0.00765649\ttest-rmse:4.52393+0.0502921\n",
            "[12]\ttrain-rmse:4.35293+0.00745892\ttest-rmse:4.38995+0.04891\n",
            "[13]\ttrain-rmse:4.24969+0.00867825\ttest-rmse:4.28989+0.0467682\n",
            "[14]\ttrain-rmse:4.17115+0.00898665\ttest-rmse:4.21424+0.0458198\n",
            "[15]\ttrain-rmse:4.11017+0.00857324\ttest-rmse:4.15604+0.0436616\n",
            "[16]\ttrain-rmse:4.06344+0.00903221\ttest-rmse:4.11098+0.0426411\n",
            "[17]\ttrain-rmse:4.02766+0.00902817\ttest-rmse:4.07718+0.0415727\n",
            "[18]\ttrain-rmse:4.00056+0.0088887\ttest-rmse:4.05228+0.0408913\n",
            "[19]\ttrain-rmse:3.97753+0.00962303\ttest-rmse:4.03213+0.0388174\n",
            "[20]\ttrain-rmse:3.96011+0.00901131\ttest-rmse:4.01681+0.0379146\n",
            "[21]\ttrain-rmse:3.94545+0.00909455\ttest-rmse:4.00387+0.0368479\n",
            "[22]\ttrain-rmse:3.93381+0.00865408\ttest-rmse:3.99361+0.037161\n",
            "[23]\ttrain-rmse:3.92324+0.0087045\ttest-rmse:3.98425+0.0361532\n",
            "[24]\ttrain-rmse:3.91334+0.00679638\ttest-rmse:3.97648+0.0358091\n",
            "[25]\ttrain-rmse:3.90585+0.00643777\ttest-rmse:3.97095+0.0353296\n",
            "[26]\ttrain-rmse:3.89819+0.00639729\ttest-rmse:3.96496+0.0352294\n",
            "[27]\ttrain-rmse:3.89061+0.00614329\ttest-rmse:3.95964+0.0341541\n",
            "[28]\ttrain-rmse:3.88517+0.00755077\ttest-rmse:3.95592+0.0331686\n",
            "[29]\ttrain-rmse:3.87953+0.00618809\ttest-rmse:3.95189+0.0335192\n",
            "[30]\ttrain-rmse:3.87585+0.00597957\ttest-rmse:3.94962+0.0336649\n",
            "[31]\ttrain-rmse:3.87037+0.00710284\ttest-rmse:3.94618+0.032786\n",
            "[32]\ttrain-rmse:3.86546+0.00749896\ttest-rmse:3.94307+0.0321795\n",
            "[33]\ttrain-rmse:3.8609+0.00746452\ttest-rmse:3.94026+0.0316572\n",
            "[34]\ttrain-rmse:3.85647+0.00699142\ttest-rmse:3.93767+0.0319747\n",
            "[35]\ttrain-rmse:3.85226+0.00747817\ttest-rmse:3.93501+0.0313688\n",
            "[36]\ttrain-rmse:3.84883+0.00780648\ttest-rmse:3.93318+0.0311402\n",
            "[37]\ttrain-rmse:3.84531+0.00845986\ttest-rmse:3.93091+0.0305439\n",
            "[38]\ttrain-rmse:3.84236+0.00908534\ttest-rmse:3.9295+0.0296789\n",
            "[39]\ttrain-rmse:3.83868+0.00850453\ttest-rmse:3.92728+0.0296363\n",
            "[40]\ttrain-rmse:3.83593+0.00811862\ttest-rmse:3.92595+0.0295936\n",
            "[41]\ttrain-rmse:3.83339+0.00846919\ttest-rmse:3.92492+0.0300149\n",
            "[42]\ttrain-rmse:3.83009+0.00853235\ttest-rmse:3.92354+0.0303832\n",
            "[43]\ttrain-rmse:3.82752+0.0082086\ttest-rmse:3.92217+0.0304071\n",
            "[44]\ttrain-rmse:3.8252+0.0079688\ttest-rmse:3.92041+0.0307653\n",
            "[45]\ttrain-rmse:3.82318+0.00829989\ttest-rmse:3.91908+0.0305086\n",
            "[46]\ttrain-rmse:3.821+0.00835011\ttest-rmse:3.91776+0.030138\n",
            "[47]\ttrain-rmse:3.81798+0.00826255\ttest-rmse:3.91597+0.0302498\n",
            "[48]\ttrain-rmse:3.81582+0.00830361\ttest-rmse:3.91489+0.0308971\n",
            "[49]\ttrain-rmse:3.81383+0.00817743\ttest-rmse:3.9138+0.030998\n",
            "[50]\ttrain-rmse:3.81186+0.00792766\ttest-rmse:3.91273+0.0309724\n",
            "[51]\ttrain-rmse:3.81023+0.00806107\ttest-rmse:3.91224+0.0308164\n",
            "[52]\ttrain-rmse:3.8085+0.007852\ttest-rmse:3.91193+0.0312083\n",
            "[53]\ttrain-rmse:3.80662+0.00742721\ttest-rmse:3.91123+0.0317257\n",
            "[54]\ttrain-rmse:3.80463+0.00799351\ttest-rmse:3.91064+0.0309432\n",
            "[55]\ttrain-rmse:3.80209+0.00805041\ttest-rmse:3.90969+0.0303919\n",
            "[56]\ttrain-rmse:3.79944+0.00835727\ttest-rmse:3.90851+0.0300298\n",
            "[57]\ttrain-rmse:3.79733+0.00905607\ttest-rmse:3.90719+0.0290248\n",
            "[58]\ttrain-rmse:3.79515+0.00907597\ttest-rmse:3.90611+0.0291719\n",
            "[59]\ttrain-rmse:3.79263+0.00836575\ttest-rmse:3.90479+0.0299177\n",
            "[60]\ttrain-rmse:3.78968+0.00742325\ttest-rmse:3.90307+0.030705\n",
            "[61]\ttrain-rmse:3.7879+0.00732126\ttest-rmse:3.90249+0.0305899\n",
            "[62]\ttrain-rmse:3.78633+0.00721151\ttest-rmse:3.90159+0.0308617\n",
            "[63]\ttrain-rmse:3.78473+0.00717272\ttest-rmse:3.90123+0.0306644\n",
            "[64]\ttrain-rmse:3.78328+0.0073284\ttest-rmse:3.90074+0.0304083\n",
            "[65]\ttrain-rmse:3.78158+0.00694974\ttest-rmse:3.89994+0.0305514\n",
            "[66]\ttrain-rmse:3.77912+0.00755254\ttest-rmse:3.89863+0.0301148\n",
            "[67]\ttrain-rmse:3.7773+0.00726371\ttest-rmse:3.89793+0.030407\n",
            "[68]\ttrain-rmse:3.7749+0.00719508\ttest-rmse:3.89661+0.0298309\n",
            "[69]\ttrain-rmse:3.77276+0.00775329\ttest-rmse:3.89545+0.0289938\n",
            "[70]\ttrain-rmse:3.77103+0.00736495\ttest-rmse:3.89455+0.0291616\n",
            "[71]\ttrain-rmse:3.76847+0.00715153\ttest-rmse:3.89307+0.0298633\n",
            "[72]\ttrain-rmse:3.76637+0.00687191\ttest-rmse:3.89216+0.0296698\n",
            "[73]\ttrain-rmse:3.76479+0.00689058\ttest-rmse:3.89167+0.0293943\n",
            "[74]\ttrain-rmse:3.76341+0.00728147\ttest-rmse:3.89141+0.0292524\n",
            "[75]\ttrain-rmse:3.76186+0.00730481\ttest-rmse:3.89099+0.0293076\n",
            "[76]\ttrain-rmse:3.76048+0.0073219\ttest-rmse:3.89017+0.0288971\n",
            "[77]\ttrain-rmse:3.7588+0.0075842\ttest-rmse:3.88982+0.0283801\n",
            "[78]\ttrain-rmse:3.75726+0.00788455\ttest-rmse:3.88929+0.0283849\n",
            "[79]\ttrain-rmse:3.75589+0.00792334\ttest-rmse:3.88877+0.0282321\n",
            "[80]\ttrain-rmse:3.75378+0.00760824\ttest-rmse:3.88731+0.0285958\n",
            "[81]\ttrain-rmse:3.75201+0.00813978\ttest-rmse:3.88646+0.0279084\n",
            "[82]\ttrain-rmse:3.75002+0.00899791\ttest-rmse:3.88518+0.0267663\n",
            "[83]\ttrain-rmse:3.74823+0.00912846\ttest-rmse:3.88442+0.0265911\n",
            "[84]\ttrain-rmse:3.74687+0.00934189\ttest-rmse:3.88388+0.0266126\n",
            "[85]\ttrain-rmse:3.74536+0.0093663\ttest-rmse:3.88325+0.0266198\n",
            "[86]\ttrain-rmse:3.74323+0.00863461\ttest-rmse:3.882+0.0270717\n",
            "[87]\ttrain-rmse:3.74217+0.00856982\ttest-rmse:3.88173+0.0272253\n",
            "[88]\ttrain-rmse:3.74063+0.00805996\ttest-rmse:3.88104+0.027451\n",
            "[89]\ttrain-rmse:3.73936+0.00812553\ttest-rmse:3.88038+0.027482\n",
            "[90]\ttrain-rmse:3.73811+0.00808466\ttest-rmse:3.88004+0.0277289\n",
            "[91]\ttrain-rmse:3.73659+0.0081145\ttest-rmse:3.87907+0.0275471\n",
            "[92]\ttrain-rmse:3.73456+0.00775148\ttest-rmse:3.8779+0.0275888\n",
            "[93]\ttrain-rmse:3.73339+0.0079266\ttest-rmse:3.87758+0.027253\n",
            "[94]\ttrain-rmse:3.7316+0.00782789\ttest-rmse:3.87661+0.0271326\n",
            "[95]\ttrain-rmse:3.73055+0.0079513\ttest-rmse:3.87629+0.027208\n",
            "[96]\ttrain-rmse:3.72943+0.0077759\ttest-rmse:3.87578+0.0273648\n",
            "[97]\ttrain-rmse:3.72858+0.0076821\ttest-rmse:3.87543+0.0271831\n",
            "[98]\ttrain-rmse:3.72743+0.00745399\ttest-rmse:3.87503+0.0273151\n",
            "[99]\ttrain-rmse:3.72633+0.00750434\ttest-rmse:3.87458+0.0272776\n",
            "[100]\ttrain-rmse:3.72492+0.00768833\ttest-rmse:3.87422+0.0275323\n",
            "[101]\ttrain-rmse:3.72351+0.00754943\ttest-rmse:3.87385+0.0276731\n",
            "[102]\ttrain-rmse:3.72146+0.00757595\ttest-rmse:3.8726+0.0279237\n",
            "[103]\ttrain-rmse:3.72037+0.00750367\ttest-rmse:3.87219+0.028048\n",
            "[104]\ttrain-rmse:3.71902+0.00755469\ttest-rmse:3.87136+0.028118\n",
            "[105]\ttrain-rmse:3.71699+0.00736022\ttest-rmse:3.87014+0.0281928\n",
            "[106]\ttrain-rmse:3.71605+0.00743314\ttest-rmse:3.87016+0.0283989\n",
            "[107]\ttrain-rmse:3.71484+0.00695734\ttest-rmse:3.86955+0.0289284\n",
            "[108]\ttrain-rmse:3.71337+0.00670497\ttest-rmse:3.86873+0.0291408\n",
            "[109]\ttrain-rmse:3.71165+0.00686374\ttest-rmse:3.86761+0.0288965\n",
            "[110]\ttrain-rmse:3.71033+0.00699529\ttest-rmse:3.86697+0.0286897\n",
            "[111]\ttrain-rmse:3.70904+0.00684602\ttest-rmse:3.86633+0.0286809\n",
            "[112]\ttrain-rmse:3.70801+0.00712473\ttest-rmse:3.86592+0.0287656\n",
            "[113]\ttrain-rmse:3.7068+0.00732806\ttest-rmse:3.86545+0.0284697\n",
            "[114]\ttrain-rmse:3.70576+0.00732714\ttest-rmse:3.8652+0.0283656\n",
            "[115]\ttrain-rmse:3.70422+0.00693376\ttest-rmse:3.86409+0.0282922\n",
            "[116]\ttrain-rmse:3.70345+0.00687531\ttest-rmse:3.86394+0.0283243\n",
            "[117]\ttrain-rmse:3.70215+0.00722339\ttest-rmse:3.86364+0.028086\n",
            "[118]\ttrain-rmse:3.70096+0.0075977\ttest-rmse:3.86315+0.0277634\n",
            "[119]\ttrain-rmse:3.70009+0.00758154\ttest-rmse:3.86302+0.027593\n",
            "[120]\ttrain-rmse:3.69888+0.00752768\ttest-rmse:3.86265+0.0276457\n",
            "[121]\ttrain-rmse:3.69763+0.0071479\ttest-rmse:3.86217+0.0280037\n",
            "[122]\ttrain-rmse:3.69678+0.00703106\ttest-rmse:3.86189+0.0279288\n",
            "[123]\ttrain-rmse:3.69566+0.00720125\ttest-rmse:3.86172+0.0280872\n",
            "[124]\ttrain-rmse:3.69461+0.0073643\ttest-rmse:3.86159+0.0279778\n",
            "[125]\ttrain-rmse:3.69307+0.00647958\ttest-rmse:3.86054+0.0286813\n",
            "[126]\ttrain-rmse:3.6921+0.00621931\ttest-rmse:3.86025+0.0288945\n",
            "[127]\ttrain-rmse:3.69126+0.00635678\ttest-rmse:3.85996+0.0288875\n",
            "[128]\ttrain-rmse:3.68974+0.00604893\ttest-rmse:3.85937+0.0294424\n",
            "[129]\ttrain-rmse:3.68834+0.00571779\ttest-rmse:3.85861+0.0299092\n",
            "[130]\ttrain-rmse:3.68719+0.00598132\ttest-rmse:3.85817+0.0299215\n",
            "[131]\ttrain-rmse:3.68594+0.00584001\ttest-rmse:3.85762+0.0300866\n",
            "[132]\ttrain-rmse:3.68506+0.00615465\ttest-rmse:3.85758+0.0301947\n",
            "[133]\ttrain-rmse:3.68398+0.00605689\ttest-rmse:3.85712+0.0305128\n",
            "[134]\ttrain-rmse:3.6827+0.00644015\ttest-rmse:3.8567+0.0301461\n",
            "[135]\ttrain-rmse:3.68169+0.00638863\ttest-rmse:3.85607+0.0300421\n",
            "[136]\ttrain-rmse:3.68072+0.00631165\ttest-rmse:3.85565+0.0302103\n",
            "[137]\ttrain-rmse:3.67998+0.00637248\ttest-rmse:3.85557+0.0301316\n",
            "[138]\ttrain-rmse:3.6789+0.00647435\ttest-rmse:3.85521+0.0303057\n",
            "[139]\ttrain-rmse:3.6773+0.00678991\ttest-rmse:3.85425+0.0299411\n",
            "[140]\ttrain-rmse:3.6765+0.00673292\ttest-rmse:3.85408+0.0297882\n",
            "[141]\ttrain-rmse:3.67594+0.00664543\ttest-rmse:3.85387+0.0298577\n",
            "[142]\ttrain-rmse:3.67491+0.00676406\ttest-rmse:3.85332+0.0299059\n",
            "[143]\ttrain-rmse:3.67412+0.00694064\ttest-rmse:3.85329+0.0297626\n",
            "[144]\ttrain-rmse:3.67329+0.00677387\ttest-rmse:3.85308+0.02989\n",
            "[145]\ttrain-rmse:3.67195+0.00667176\ttest-rmse:3.85257+0.0300992\n",
            "[146]\ttrain-rmse:3.67089+0.00702178\ttest-rmse:3.85225+0.0299212\n",
            "[147]\ttrain-rmse:3.66991+0.00704636\ttest-rmse:3.8518+0.0299928\n",
            "[148]\ttrain-rmse:3.66912+0.00716875\ttest-rmse:3.85149+0.0298992\n",
            "[149]\ttrain-rmse:3.6681+0.00681965\ttest-rmse:3.8511+0.0301371\n",
            "[150]\ttrain-rmse:3.66756+0.00681899\ttest-rmse:3.85104+0.0300259\n",
            "[151]\ttrain-rmse:3.66642+0.00739144\ttest-rmse:3.85057+0.029831\n",
            "[152]\ttrain-rmse:3.66566+0.00738277\ttest-rmse:3.85032+0.0298587\n",
            "[153]\ttrain-rmse:3.66465+0.0077187\ttest-rmse:3.84987+0.0296677\n",
            "[154]\ttrain-rmse:3.66406+0.00773427\ttest-rmse:3.84974+0.0295364\n",
            "[155]\ttrain-rmse:3.663+0.00780885\ttest-rmse:3.8493+0.0293485\n",
            "[156]\ttrain-rmse:3.66219+0.00799093\ttest-rmse:3.84912+0.0292737\n",
            "[157]\ttrain-rmse:3.66144+0.00797299\ttest-rmse:3.84883+0.029185\n",
            "[158]\ttrain-rmse:3.66023+0.00829494\ttest-rmse:3.84811+0.0289543\n",
            "[159]\ttrain-rmse:3.65939+0.00834109\ttest-rmse:3.84772+0.0288032\n",
            "[160]\ttrain-rmse:3.65879+0.00854629\ttest-rmse:3.84756+0.0286139\n",
            "[161]\ttrain-rmse:3.65785+0.00859265\ttest-rmse:3.84729+0.0285144\n",
            "[162]\ttrain-rmse:3.65702+0.00840576\ttest-rmse:3.84691+0.02871\n",
            "[163]\ttrain-rmse:3.65596+0.00808183\ttest-rmse:3.84664+0.0290632\n",
            "[164]\ttrain-rmse:3.65459+0.00758944\ttest-rmse:3.84585+0.0292006\n",
            "[165]\ttrain-rmse:3.65402+0.00755276\ttest-rmse:3.84573+0.0293182\n",
            "[166]\ttrain-rmse:3.65309+0.00728917\ttest-rmse:3.84546+0.0293699\n",
            "[167]\ttrain-rmse:3.65207+0.00704069\ttest-rmse:3.84511+0.0294975\n",
            "[168]\ttrain-rmse:3.65129+0.00712887\ttest-rmse:3.84492+0.0294786\n",
            "[169]\ttrain-rmse:3.65034+0.00710322\ttest-rmse:3.84455+0.0294873\n",
            "[170]\ttrain-rmse:3.64974+0.00711337\ttest-rmse:3.84444+0.0296151\n",
            "[171]\ttrain-rmse:3.64904+0.00708478\ttest-rmse:3.84439+0.0298109\n",
            "[172]\ttrain-rmse:3.64852+0.00711624\ttest-rmse:3.84441+0.0298871\n",
            "[173]\ttrain-rmse:3.64778+0.0071679\ttest-rmse:3.84417+0.029852\n",
            "[174]\ttrain-rmse:3.64715+0.00720122\ttest-rmse:3.84418+0.0301887\n",
            "[175]\ttrain-rmse:3.64639+0.00697033\ttest-rmse:3.84408+0.0301601\n",
            "[176]\ttrain-rmse:3.64574+0.00715804\ttest-rmse:3.84392+0.0301137\n",
            "[177]\ttrain-rmse:3.64488+0.0072219\ttest-rmse:3.84342+0.0299501\n",
            "[178]\ttrain-rmse:3.64398+0.00727187\ttest-rmse:3.84302+0.0298796\n",
            "[179]\ttrain-rmse:3.64341+0.00719721\ttest-rmse:3.843+0.0298282\n",
            "[180]\ttrain-rmse:3.64276+0.00705607\ttest-rmse:3.84289+0.0299151\n",
            "[181]\ttrain-rmse:3.6419+0.00683368\ttest-rmse:3.84267+0.0303308\n",
            "[182]\ttrain-rmse:3.64112+0.00678485\ttest-rmse:3.84256+0.030127\n",
            "[183]\ttrain-rmse:3.64043+0.00689652\ttest-rmse:3.84243+0.0299649\n",
            "[184]\ttrain-rmse:3.63989+0.00694084\ttest-rmse:3.84223+0.0298068\n",
            "[185]\ttrain-rmse:3.63937+0.00689992\ttest-rmse:3.84225+0.0298431\n",
            "[186]\ttrain-rmse:3.6384+0.00714084\ttest-rmse:3.84195+0.0296854\n",
            "[187]\ttrain-rmse:3.63783+0.00720633\ttest-rmse:3.84191+0.0296905\n",
            "[188]\ttrain-rmse:3.63711+0.0072204\ttest-rmse:3.84192+0.0294999\n",
            "[189]\ttrain-rmse:3.63635+0.00748205\ttest-rmse:3.84178+0.0291195\n",
            "[190]\ttrain-rmse:3.6358+0.00750153\ttest-rmse:3.84176+0.029033\n",
            "[191]\ttrain-rmse:3.63496+0.00743064\ttest-rmse:3.84155+0.0287705\n",
            "[192]\ttrain-rmse:3.63407+0.00736273\ttest-rmse:3.84137+0.0286953\n",
            "[193]\ttrain-rmse:3.63351+0.00750523\ttest-rmse:3.84118+0.0283608\n",
            "[194]\ttrain-rmse:3.6328+0.00761718\ttest-rmse:3.84114+0.0285556\n",
            "[195]\ttrain-rmse:3.63196+0.00753603\ttest-rmse:3.84099+0.028537\n",
            "[196]\ttrain-rmse:3.6312+0.00757201\ttest-rmse:3.84064+0.0283214\n",
            "[197]\ttrain-rmse:3.6304+0.00752754\ttest-rmse:3.84038+0.028238\n",
            "[198]\ttrain-rmse:3.62987+0.00741961\ttest-rmse:3.84026+0.0282687\n",
            "[199]\ttrain-rmse:3.6292+0.00730245\ttest-rmse:3.84014+0.0283281\n",
            "[200]\ttrain-rmse:3.6285+0.00720995\ttest-rmse:3.83982+0.0283403\n",
            "[201]\ttrain-rmse:3.62798+0.00723519\ttest-rmse:3.83971+0.028373\n",
            "[202]\ttrain-rmse:3.62722+0.00729485\ttest-rmse:3.83957+0.0283807\n",
            "[203]\ttrain-rmse:3.62643+0.00733767\ttest-rmse:3.83966+0.0283927\n",
            "[204]\ttrain-rmse:3.62595+0.00738251\ttest-rmse:3.8396+0.0282823\n",
            "[205]\ttrain-rmse:3.62516+0.00729816\ttest-rmse:3.83949+0.0282757\n",
            "[206]\ttrain-rmse:3.62449+0.00732754\ttest-rmse:3.83933+0.0283452\n",
            "[207]\ttrain-rmse:3.62384+0.00747021\ttest-rmse:3.8392+0.0283889\n",
            "[208]\ttrain-rmse:3.62307+0.00731379\ttest-rmse:3.83898+0.0283997\n",
            "[209]\ttrain-rmse:3.6223+0.00727951\ttest-rmse:3.8389+0.0285979\n",
            "[210]\ttrain-rmse:3.6216+0.00735807\ttest-rmse:3.83857+0.0284752\n",
            "[211]\ttrain-rmse:3.62091+0.00767696\ttest-rmse:3.83857+0.0284683\n",
            "[212]\ttrain-rmse:3.62035+0.00776623\ttest-rmse:3.83836+0.0284281\n",
            "[213]\ttrain-rmse:3.61974+0.00787179\ttest-rmse:3.83845+0.0285126\n",
            "[214]\ttrain-rmse:3.61905+0.00796123\ttest-rmse:3.8383+0.0285282\n",
            "[215]\ttrain-rmse:3.61834+0.00823461\ttest-rmse:3.83808+0.0284905\n",
            "[216]\ttrain-rmse:3.61782+0.00823245\ttest-rmse:3.83811+0.0282982\n",
            "[217]\ttrain-rmse:3.61703+0.00799139\ttest-rmse:3.83782+0.0285788\n",
            "[218]\ttrain-rmse:3.61634+0.00794996\ttest-rmse:3.83764+0.0285289\n",
            "[219]\ttrain-rmse:3.61576+0.00803424\ttest-rmse:3.83763+0.0285694\n",
            "[220]\ttrain-rmse:3.61536+0.00804204\ttest-rmse:3.83751+0.028471\n",
            "[221]\ttrain-rmse:3.61492+0.00797437\ttest-rmse:3.83756+0.0285665\n",
            "[222]\ttrain-rmse:3.61444+0.00789873\ttest-rmse:3.83747+0.0285436\n",
            "[223]\ttrain-rmse:3.6136+0.00774382\ttest-rmse:3.83729+0.0284634\n",
            "[224]\ttrain-rmse:3.61306+0.0077848\ttest-rmse:3.83708+0.0283419\n",
            "[225]\ttrain-rmse:3.61225+0.00810524\ttest-rmse:3.83664+0.0281563\n",
            "[226]\ttrain-rmse:3.61169+0.00818912\ttest-rmse:3.83656+0.0280257\n",
            "[227]\ttrain-rmse:3.61126+0.00821806\ttest-rmse:3.83644+0.0280384\n",
            "[228]\ttrain-rmse:3.61057+0.00801689\ttest-rmse:3.83647+0.0280299\n",
            "[229]\ttrain-rmse:3.6099+0.00800564\ttest-rmse:3.83626+0.0281794\n",
            "[230]\ttrain-rmse:3.60924+0.00784217\ttest-rmse:3.83621+0.0281517\n",
            "[231]\ttrain-rmse:3.60874+0.00783598\ttest-rmse:3.83619+0.0282423\n",
            "[232]\ttrain-rmse:3.60809+0.00782541\ttest-rmse:3.83591+0.0280343\n",
            "[233]\ttrain-rmse:3.60758+0.00778444\ttest-rmse:3.83587+0.0280965\n",
            "[234]\ttrain-rmse:3.60707+0.00789396\ttest-rmse:3.83581+0.027924\n",
            "[235]\ttrain-rmse:3.6065+0.00794045\ttest-rmse:3.83567+0.0278951\n",
            "[236]\ttrain-rmse:3.60605+0.00799206\ttest-rmse:3.83559+0.0279141\n",
            "[237]\ttrain-rmse:3.6055+0.00790664\ttest-rmse:3.83548+0.0278983\n",
            "[238]\ttrain-rmse:3.60491+0.00793725\ttest-rmse:3.83538+0.02786\n",
            "[239]\ttrain-rmse:3.60427+0.00779996\ttest-rmse:3.83531+0.0279045\n",
            "[240]\ttrain-rmse:3.60366+0.00767585\ttest-rmse:3.83522+0.0278649\n",
            "[241]\ttrain-rmse:3.60309+0.00766155\ttest-rmse:3.83516+0.0278595\n",
            "[242]\ttrain-rmse:3.60253+0.00756856\ttest-rmse:3.83494+0.0278929\n",
            "[243]\ttrain-rmse:3.60195+0.00749683\ttest-rmse:3.83479+0.0281004\n",
            "[244]\ttrain-rmse:3.60135+0.00751998\ttest-rmse:3.83468+0.0280106\n",
            "[245]\ttrain-rmse:3.60073+0.00732986\ttest-rmse:3.83467+0.0280341\n",
            "[246]\ttrain-rmse:3.60021+0.0072896\ttest-rmse:3.83465+0.0279364\n",
            "[247]\ttrain-rmse:3.59974+0.00727459\ttest-rmse:3.83465+0.0280243\n",
            "[248]\ttrain-rmse:3.59908+0.00728869\ttest-rmse:3.83435+0.0279264\n",
            "[249]\ttrain-rmse:3.59831+0.00729181\ttest-rmse:3.834+0.0277986\n",
            "[250]\ttrain-rmse:3.59779+0.00746347\ttest-rmse:3.83382+0.0276393\n",
            "[251]\ttrain-rmse:3.59716+0.00747417\ttest-rmse:3.83384+0.027639\n",
            "[252]\ttrain-rmse:3.59663+0.00744538\ttest-rmse:3.83365+0.0276551\n",
            "[253]\ttrain-rmse:3.59615+0.00736377\ttest-rmse:3.83353+0.0276348\n",
            "[254]\ttrain-rmse:3.59567+0.00728823\ttest-rmse:3.83342+0.0277761\n",
            "[255]\ttrain-rmse:3.59498+0.00753905\ttest-rmse:3.83322+0.0277117\n",
            "[256]\ttrain-rmse:3.59437+0.00783095\ttest-rmse:3.83304+0.0275004\n",
            "[257]\ttrain-rmse:3.59382+0.00774438\ttest-rmse:3.83288+0.0274787\n",
            "[258]\ttrain-rmse:3.59334+0.00770114\ttest-rmse:3.83268+0.0275144\n",
            "[259]\ttrain-rmse:3.59288+0.00774604\ttest-rmse:3.83262+0.0274781\n",
            "[260]\ttrain-rmse:3.59235+0.00790465\ttest-rmse:3.8325+0.0274312\n",
            "[261]\ttrain-rmse:3.59168+0.00801594\ttest-rmse:3.83245+0.0273655\n",
            "[262]\ttrain-rmse:3.59125+0.00809765\ttest-rmse:3.83244+0.0274708\n",
            "[263]\ttrain-rmse:3.59063+0.00823437\ttest-rmse:3.83214+0.027385\n",
            "[264]\ttrain-rmse:3.59008+0.00816145\ttest-rmse:3.83211+0.027518\n",
            "[265]\ttrain-rmse:3.58966+0.00820878\ttest-rmse:3.83211+0.0275173\n",
            "[266]\ttrain-rmse:3.58904+0.00835082\ttest-rmse:3.83198+0.0274896\n",
            "[267]\ttrain-rmse:3.58852+0.00828459\ttest-rmse:3.83183+0.0273406\n",
            "[268]\ttrain-rmse:3.58787+0.00828726\ttest-rmse:3.83172+0.0272867\n",
            "[269]\ttrain-rmse:3.58734+0.00826746\ttest-rmse:3.83154+0.0273085\n",
            "[270]\ttrain-rmse:3.5869+0.00835417\ttest-rmse:3.83148+0.0272144\n",
            "[271]\ttrain-rmse:3.58638+0.00823734\ttest-rmse:3.83138+0.027236\n",
            "[272]\ttrain-rmse:3.58591+0.00823589\ttest-rmse:3.83123+0.0272196\n",
            "[273]\ttrain-rmse:3.58546+0.00830447\ttest-rmse:3.83115+0.0271398\n",
            "[274]\ttrain-rmse:3.58488+0.00810377\ttest-rmse:3.831+0.0271871\n",
            "[275]\ttrain-rmse:3.58446+0.00800505\ttest-rmse:3.83091+0.0272835\n",
            "[276]\ttrain-rmse:3.58406+0.00800678\ttest-rmse:3.83084+0.0273121\n",
            "[277]\ttrain-rmse:3.5834+0.00800187\ttest-rmse:3.83074+0.0275193\n",
            "[278]\ttrain-rmse:3.58293+0.00805607\ttest-rmse:3.83072+0.0275601\n",
            "[279]\ttrain-rmse:3.58252+0.00804445\ttest-rmse:3.83068+0.0276287\n",
            "[280]\ttrain-rmse:3.58205+0.00805948\ttest-rmse:3.83062+0.0276049\n",
            "[281]\ttrain-rmse:3.58174+0.00799888\ttest-rmse:3.8306+0.0276018\n",
            "[282]\ttrain-rmse:3.58111+0.0079753\ttest-rmse:3.83048+0.0274715\n",
            "[283]\ttrain-rmse:3.58074+0.00801729\ttest-rmse:3.8305+0.0275038\n",
            "[284]\ttrain-rmse:3.58031+0.00805503\ttest-rmse:3.83049+0.0275109\n",
            "[285]\ttrain-rmse:3.57994+0.00807066\ttest-rmse:3.83048+0.0275042\n",
            "[286]\ttrain-rmse:3.57936+0.00805705\ttest-rmse:3.83029+0.0274865\n",
            "[287]\ttrain-rmse:3.57899+0.00801556\ttest-rmse:3.83043+0.0274176\n",
            "[288]\ttrain-rmse:3.57853+0.00798469\ttest-rmse:3.83033+0.027326\n",
            "[289]\ttrain-rmse:3.57803+0.00791904\ttest-rmse:3.83021+0.0273521\n",
            "[290]\ttrain-rmse:3.57762+0.00796992\ttest-rmse:3.83016+0.0272888\n",
            "[291]\ttrain-rmse:3.5771+0.00810594\ttest-rmse:3.83011+0.0272487\n",
            "[292]\ttrain-rmse:3.57665+0.0081446\ttest-rmse:3.83016+0.0271065\n",
            "[293]\ttrain-rmse:3.57628+0.00807107\ttest-rmse:3.83+0.0271256\n",
            "[294]\ttrain-rmse:3.57577+0.00805188\ttest-rmse:3.82981+0.0270594\n",
            "[295]\ttrain-rmse:3.57535+0.00802355\ttest-rmse:3.82992+0.0269783\n",
            "[296]\ttrain-rmse:3.57484+0.00786298\ttest-rmse:3.82983+0.0271232\n",
            "[297]\ttrain-rmse:3.57443+0.00784447\ttest-rmse:3.8297+0.0271488\n",
            "[298]\ttrain-rmse:3.57382+0.00764818\ttest-rmse:3.82949+0.0272682\n",
            "[299]\ttrain-rmse:3.57325+0.0077483\ttest-rmse:3.82931+0.0271323\n",
            "[300]\ttrain-rmse:3.57273+0.00774996\ttest-rmse:3.82909+0.0271152\n",
            "[301]\ttrain-rmse:3.5723+0.00762319\ttest-rmse:3.82896+0.0272002\n",
            "[302]\ttrain-rmse:3.572+0.00762635\ttest-rmse:3.82885+0.027186\n",
            "[303]\ttrain-rmse:3.57164+0.00767319\ttest-rmse:3.82875+0.0271466\n",
            "[304]\ttrain-rmse:3.5711+0.00787263\ttest-rmse:3.82833+0.0270691\n",
            "[305]\ttrain-rmse:3.5706+0.0079723\ttest-rmse:3.82826+0.0271391\n",
            "[306]\ttrain-rmse:3.57023+0.00792846\ttest-rmse:3.82834+0.0271459\n",
            "[307]\ttrain-rmse:3.56977+0.00785242\ttest-rmse:3.82822+0.0270736\n",
            "[308]\ttrain-rmse:3.56929+0.00789875\ttest-rmse:3.82807+0.0270143\n",
            "[309]\ttrain-rmse:3.56874+0.00788234\ttest-rmse:3.82801+0.027085\n",
            "[310]\ttrain-rmse:3.56836+0.00793884\ttest-rmse:3.828+0.0271495\n",
            "[311]\ttrain-rmse:3.56776+0.00788425\ttest-rmse:3.82776+0.0272255\n",
            "[312]\ttrain-rmse:3.56713+0.00780953\ttest-rmse:3.82758+0.0272046\n",
            "[313]\ttrain-rmse:3.56657+0.007684\ttest-rmse:3.82729+0.0272315\n",
            "[314]\ttrain-rmse:3.56586+0.00767924\ttest-rmse:3.82706+0.0272891\n",
            "[315]\ttrain-rmse:3.56533+0.00761302\ttest-rmse:3.82685+0.027287\n",
            "[316]\ttrain-rmse:3.56481+0.00761917\ttest-rmse:3.82686+0.0273288\n",
            "[317]\ttrain-rmse:3.56437+0.00753335\ttest-rmse:3.82683+0.027282\n",
            "[318]\ttrain-rmse:3.56369+0.00758366\ttest-rmse:3.82659+0.0274113\n",
            "[319]\ttrain-rmse:3.56319+0.00754402\ttest-rmse:3.82641+0.027538\n",
            "[320]\ttrain-rmse:3.56272+0.00741215\ttest-rmse:3.82633+0.0276457\n",
            "[321]\ttrain-rmse:3.56221+0.00755068\ttest-rmse:3.82618+0.0275574\n",
            "[322]\ttrain-rmse:3.56155+0.00752421\ttest-rmse:3.82601+0.0276494\n",
            "[323]\ttrain-rmse:3.56118+0.00754158\ttest-rmse:3.82591+0.0276967\n",
            "[324]\ttrain-rmse:3.56073+0.00749397\ttest-rmse:3.82596+0.0276892\n",
            "[325]\ttrain-rmse:3.56018+0.00749591\ttest-rmse:3.82588+0.0277206\n",
            "[326]\ttrain-rmse:3.55973+0.00752267\ttest-rmse:3.82579+0.0277236\n",
            "[327]\ttrain-rmse:3.55928+0.00755466\ttest-rmse:3.82578+0.0276206\n",
            "[328]\ttrain-rmse:3.55895+0.00762208\ttest-rmse:3.82575+0.027629\n",
            "[329]\ttrain-rmse:3.55864+0.00757787\ttest-rmse:3.82573+0.0275404\n",
            "[330]\ttrain-rmse:3.55806+0.00750891\ttest-rmse:3.82546+0.0276623\n",
            "[331]\ttrain-rmse:3.5576+0.00749038\ttest-rmse:3.82543+0.0277079\n",
            "[332]\ttrain-rmse:3.55703+0.00731545\ttest-rmse:3.82528+0.0278962\n",
            "[333]\ttrain-rmse:3.55666+0.00730607\ttest-rmse:3.82529+0.0279209\n",
            "[334]\ttrain-rmse:3.55615+0.0071921\ttest-rmse:3.82517+0.028056\n",
            "[335]\ttrain-rmse:3.5557+0.00720017\ttest-rmse:3.82503+0.0280469\n",
            "[336]\ttrain-rmse:3.55531+0.00712756\ttest-rmse:3.82487+0.0281424\n",
            "[337]\ttrain-rmse:3.55488+0.00710328\ttest-rmse:3.82479+0.0282753\n",
            "[338]\ttrain-rmse:3.55456+0.00708447\ttest-rmse:3.82475+0.0283777\n",
            "[339]\ttrain-rmse:3.55422+0.00707736\ttest-rmse:3.8247+0.0283826\n",
            "[340]\ttrain-rmse:3.55366+0.00710826\ttest-rmse:3.82451+0.0283946\n",
            "[341]\ttrain-rmse:3.55328+0.00705853\ttest-rmse:3.82447+0.0283922\n",
            "[342]\ttrain-rmse:3.55283+0.00703982\ttest-rmse:3.82426+0.0284815\n",
            "[343]\ttrain-rmse:3.55241+0.00711551\ttest-rmse:3.82416+0.0285689\n",
            "[344]\ttrain-rmse:3.55198+0.00714606\ttest-rmse:3.82412+0.0284904\n",
            "[345]\ttrain-rmse:3.55152+0.00708326\ttest-rmse:3.82398+0.0285121\n",
            "[346]\ttrain-rmse:3.55109+0.00704999\ttest-rmse:3.82388+0.0286922\n",
            "[347]\ttrain-rmse:3.55071+0.00710622\ttest-rmse:3.82386+0.0287302\n",
            "[348]\ttrain-rmse:3.55018+0.00710665\ttest-rmse:3.8239+0.0286859\n",
            "[349]\ttrain-rmse:3.54966+0.00708733\ttest-rmse:3.82395+0.0284538\n",
            "[350]\ttrain-rmse:3.54927+0.00707972\ttest-rmse:3.82413+0.0283763\n",
            "[351]\ttrain-rmse:3.54889+0.0071065\ttest-rmse:3.82408+0.0283426\n",
            "[352]\ttrain-rmse:3.54854+0.00711919\ttest-rmse:3.82406+0.0282896\n",
            "[353]\ttrain-rmse:3.54817+0.00710106\ttest-rmse:3.82397+0.0283142\n",
            "[354]\ttrain-rmse:3.54769+0.00711926\ttest-rmse:3.82382+0.0282753\n",
            "[355]\ttrain-rmse:3.54731+0.00722082\ttest-rmse:3.82378+0.0281982\n",
            "[356]\ttrain-rmse:3.54686+0.00735098\ttest-rmse:3.82366+0.0282689\n",
            "[357]\ttrain-rmse:3.54657+0.00738344\ttest-rmse:3.82365+0.0282811\n",
            "[358]\ttrain-rmse:3.54623+0.00742089\ttest-rmse:3.82367+0.0281902\n",
            "[359]\ttrain-rmse:3.54568+0.00735447\ttest-rmse:3.82352+0.0283218\n",
            "[360]\ttrain-rmse:3.54529+0.00728866\ttest-rmse:3.82345+0.0283341\n",
            "[361]\ttrain-rmse:3.54485+0.00742765\ttest-rmse:3.82339+0.0283069\n",
            "[362]\ttrain-rmse:3.54435+0.00752593\ttest-rmse:3.82316+0.028269\n",
            "[363]\ttrain-rmse:3.54397+0.00746611\ttest-rmse:3.82305+0.0282468\n",
            "[364]\ttrain-rmse:3.54347+0.00750694\ttest-rmse:3.82287+0.0282491\n",
            "[365]\ttrain-rmse:3.543+0.00745636\ttest-rmse:3.82263+0.0282131\n",
            "[366]\ttrain-rmse:3.54267+0.00748677\ttest-rmse:3.82263+0.0281849\n",
            "[367]\ttrain-rmse:3.5424+0.0075245\ttest-rmse:3.82259+0.0281544\n",
            "[368]\ttrain-rmse:3.54203+0.00753924\ttest-rmse:3.82253+0.0280597\n",
            "[369]\ttrain-rmse:3.54162+0.00741686\ttest-rmse:3.82259+0.0280298\n",
            "[370]\ttrain-rmse:3.54127+0.0074094\ttest-rmse:3.82253+0.0280508\n",
            "[371]\ttrain-rmse:3.54094+0.00742337\ttest-rmse:3.8225+0.0279625\n",
            "[372]\ttrain-rmse:3.54062+0.00753621\ttest-rmse:3.82249+0.0279081\n",
            "[373]\ttrain-rmse:3.5402+0.00756404\ttest-rmse:3.82244+0.0278826\n",
            "[374]\ttrain-rmse:3.53987+0.00752761\ttest-rmse:3.82235+0.0278586\n",
            "[375]\ttrain-rmse:3.53948+0.00742795\ttest-rmse:3.82227+0.027938\n",
            "[376]\ttrain-rmse:3.53917+0.00741679\ttest-rmse:3.82217+0.0278554\n",
            "[377]\ttrain-rmse:3.53888+0.00743042\ttest-rmse:3.82216+0.0279087\n",
            "[378]\ttrain-rmse:3.53844+0.00746962\ttest-rmse:3.82199+0.0278776\n",
            "[379]\ttrain-rmse:3.53807+0.00736741\ttest-rmse:3.82191+0.0278609\n",
            "[380]\ttrain-rmse:3.53772+0.00737618\ttest-rmse:3.82181+0.0277526\n",
            "[381]\ttrain-rmse:3.53741+0.00738401\ttest-rmse:3.82174+0.027743\n",
            "[382]\ttrain-rmse:3.53705+0.00743083\ttest-rmse:3.82165+0.0276952\n",
            "[383]\ttrain-rmse:3.5367+0.00744405\ttest-rmse:3.8216+0.027563\n",
            "[384]\ttrain-rmse:3.53637+0.00746765\ttest-rmse:3.82158+0.0274279\n",
            "[385]\ttrain-rmse:3.53593+0.00758692\ttest-rmse:3.82158+0.0273097\n",
            "[386]\ttrain-rmse:3.53554+0.00752388\ttest-rmse:3.82154+0.0273194\n",
            "[387]\ttrain-rmse:3.53509+0.00750666\ttest-rmse:3.82149+0.027355\n",
            "[388]\ttrain-rmse:3.53469+0.00743519\ttest-rmse:3.82147+0.027382\n",
            "[389]\ttrain-rmse:3.53431+0.0074126\ttest-rmse:3.82147+0.0273766\n",
            "[390]\ttrain-rmse:3.53395+0.0074199\ttest-rmse:3.8214+0.0273084\n",
            "[391]\ttrain-rmse:3.53358+0.00742603\ttest-rmse:3.82136+0.0272396\n",
            "[392]\ttrain-rmse:3.53325+0.0074326\ttest-rmse:3.82131+0.0273098\n",
            "[393]\ttrain-rmse:3.53289+0.0074272\ttest-rmse:3.82131+0.0273436\n",
            "[394]\ttrain-rmse:3.53262+0.00741696\ttest-rmse:3.82127+0.027413\n",
            "[395]\ttrain-rmse:3.53235+0.00741323\ttest-rmse:3.82124+0.0274789\n",
            "[396]\ttrain-rmse:3.53181+0.00738273\ttest-rmse:3.82107+0.027369\n",
            "[397]\ttrain-rmse:3.53149+0.00737945\ttest-rmse:3.82107+0.0274347\n",
            "[398]\ttrain-rmse:3.53118+0.00735163\ttest-rmse:3.82113+0.0274038\n",
            "[399]\ttrain-rmse:3.53084+0.00729697\ttest-rmse:3.82109+0.0274495\n",
            "[400]\ttrain-rmse:3.53043+0.0071914\ttest-rmse:3.82098+0.0275461\n",
            "[401]\ttrain-rmse:3.53015+0.00717443\ttest-rmse:3.82091+0.0275372\n",
            "[402]\ttrain-rmse:3.52987+0.0071672\ttest-rmse:3.8209+0.0275847\n",
            "[403]\ttrain-rmse:3.52945+0.00719872\ttest-rmse:3.82088+0.027553\n",
            "[404]\ttrain-rmse:3.52898+0.00727806\ttest-rmse:3.82072+0.0274776\n",
            "[405]\ttrain-rmse:3.52848+0.00730412\ttest-rmse:3.82059+0.0275101\n",
            "[406]\ttrain-rmse:3.52815+0.00733505\ttest-rmse:3.82072+0.0275519\n",
            "[407]\ttrain-rmse:3.52783+0.00737423\ttest-rmse:3.82059+0.0275442\n",
            "[408]\ttrain-rmse:3.52753+0.00737627\ttest-rmse:3.82056+0.0274823\n",
            "[409]\ttrain-rmse:3.52724+0.007405\ttest-rmse:3.82044+0.0274496\n",
            "[410]\ttrain-rmse:3.52696+0.00741507\ttest-rmse:3.82049+0.0274748\n",
            "[411]\ttrain-rmse:3.52665+0.00740042\ttest-rmse:3.82049+0.0274642\n",
            "[412]\ttrain-rmse:3.52635+0.00739247\ttest-rmse:3.82048+0.0276022\n",
            "[413]\ttrain-rmse:3.52611+0.00734928\ttest-rmse:3.82042+0.0275286\n",
            "[414]\ttrain-rmse:3.52578+0.00739773\ttest-rmse:3.82043+0.0275314\n",
            "[415]\ttrain-rmse:3.52548+0.0073809\ttest-rmse:3.82036+0.027524\n",
            "[416]\ttrain-rmse:3.5251+0.00740233\ttest-rmse:3.82024+0.0274563\n",
            "[417]\ttrain-rmse:3.52472+0.00742266\ttest-rmse:3.82017+0.0274723\n",
            "[418]\ttrain-rmse:3.52433+0.00740889\ttest-rmse:3.82007+0.0275116\n",
            "[419]\ttrain-rmse:3.52396+0.00747355\ttest-rmse:3.81998+0.0274051\n",
            "[420]\ttrain-rmse:3.52372+0.00748318\ttest-rmse:3.81996+0.0273802\n",
            "[421]\ttrain-rmse:3.52334+0.00750802\ttest-rmse:3.81988+0.0274384\n",
            "[422]\ttrain-rmse:3.52304+0.007512\ttest-rmse:3.81983+0.0273951\n",
            "[423]\ttrain-rmse:3.52278+0.0074568\ttest-rmse:3.8198+0.027438\n",
            "[424]\ttrain-rmse:3.52246+0.007507\ttest-rmse:3.81978+0.0274378\n",
            "[425]\ttrain-rmse:3.52215+0.00753753\ttest-rmse:3.81976+0.0274862\n",
            "[426]\ttrain-rmse:3.52175+0.00756068\ttest-rmse:3.81981+0.0274995\n",
            "[427]\ttrain-rmse:3.52146+0.007583\ttest-rmse:3.81978+0.0274803\n",
            "[428]\ttrain-rmse:3.52112+0.00756287\ttest-rmse:3.8197+0.0275085\n",
            "[429]\ttrain-rmse:3.52083+0.00751819\ttest-rmse:3.81965+0.027555\n",
            "[430]\ttrain-rmse:3.52048+0.00747613\ttest-rmse:3.81959+0.0276489\n",
            "[431]\ttrain-rmse:3.52008+0.007421\ttest-rmse:3.81958+0.0275608\n",
            "[432]\ttrain-rmse:3.51972+0.00740378\ttest-rmse:3.81951+0.0275752\n",
            "[433]\ttrain-rmse:3.51937+0.0073566\ttest-rmse:3.8195+0.0275372\n",
            "[434]\ttrain-rmse:3.51909+0.00729244\ttest-rmse:3.81932+0.0275479\n",
            "[435]\ttrain-rmse:3.51881+0.00729345\ttest-rmse:3.81933+0.0274968\n",
            "[436]\ttrain-rmse:3.51859+0.0073056\ttest-rmse:3.81933+0.0275391\n",
            "[437]\ttrain-rmse:3.51826+0.00733872\ttest-rmse:3.81934+0.0275334\n",
            "[438]\ttrain-rmse:3.51803+0.0073151\ttest-rmse:3.81933+0.0275833\n",
            "[439]\ttrain-rmse:3.51765+0.00721669\ttest-rmse:3.81939+0.0275882\n",
            "[440]\ttrain-rmse:3.51729+0.0072062\ttest-rmse:3.81938+0.0275972\n",
            "[441]\ttrain-rmse:3.51691+0.00717547\ttest-rmse:3.81935+0.0277292\n",
            "[442]\ttrain-rmse:3.51657+0.00718516\ttest-rmse:3.81924+0.0277513\n",
            "[443]\ttrain-rmse:3.51624+0.00713379\ttest-rmse:3.8192+0.0278115\n",
            "[444]\ttrain-rmse:3.51577+0.00724706\ttest-rmse:3.81908+0.0278636\n",
            "[445]\ttrain-rmse:3.51542+0.00721518\ttest-rmse:3.81904+0.0278761\n",
            "[446]\ttrain-rmse:3.51507+0.00712413\ttest-rmse:3.8191+0.0279196\n",
            "[447]\ttrain-rmse:3.51468+0.00719949\ttest-rmse:3.81891+0.0278918\n",
            "[448]\ttrain-rmse:3.51435+0.00714099\ttest-rmse:3.81889+0.0279599\n",
            "[449]\ttrain-rmse:3.514+0.00708313\ttest-rmse:3.81896+0.0281729\n",
            "[450]\ttrain-rmse:3.51374+0.0070781\ttest-rmse:3.81893+0.0282614\n",
            "[451]\ttrain-rmse:3.51347+0.00715018\ttest-rmse:3.81891+0.0282197\n",
            "[452]\ttrain-rmse:3.51311+0.00712633\ttest-rmse:3.81893+0.0282649\n",
            "[453]\ttrain-rmse:3.51279+0.00714004\ttest-rmse:3.81884+0.0282408\n",
            "[454]\ttrain-rmse:3.51247+0.00703732\ttest-rmse:3.81876+0.0282717\n",
            "[455]\ttrain-rmse:3.51206+0.00707503\ttest-rmse:3.8187+0.0282742\n",
            "[456]\ttrain-rmse:3.51167+0.00703084\ttest-rmse:3.81866+0.0282439\n",
            "[457]\ttrain-rmse:3.51134+0.00696164\ttest-rmse:3.8186+0.0283011\n",
            "[458]\ttrain-rmse:3.51101+0.00693818\ttest-rmse:3.81853+0.0283529\n",
            "[459]\ttrain-rmse:3.51065+0.00695875\ttest-rmse:3.81849+0.0284653\n",
            "[460]\ttrain-rmse:3.51033+0.00686946\ttest-rmse:3.81866+0.0285685\n",
            "[461]\ttrain-rmse:3.50996+0.00685354\ttest-rmse:3.81855+0.0285909\n",
            "[462]\ttrain-rmse:3.50955+0.00685032\ttest-rmse:3.81855+0.0286149\n",
            "[463]\ttrain-rmse:3.5092+0.00693583\ttest-rmse:3.81856+0.0285721\n",
            "[464]\ttrain-rmse:3.50894+0.00696942\ttest-rmse:3.8185+0.0285903\n",
            "[465]\ttrain-rmse:3.5087+0.0069861\ttest-rmse:3.81848+0.0286168\n",
            "[466]\ttrain-rmse:3.50838+0.00696925\ttest-rmse:3.81847+0.0286196\n",
            "[467]\ttrain-rmse:3.50796+0.00674225\ttest-rmse:3.8184+0.0286733\n",
            "[468]\ttrain-rmse:3.50766+0.00672946\ttest-rmse:3.81837+0.0286684\n",
            "[469]\ttrain-rmse:3.50741+0.00680344\ttest-rmse:3.81838+0.0286502\n",
            "[470]\ttrain-rmse:3.50694+0.0067797\ttest-rmse:3.81835+0.0286572\n",
            "[471]\ttrain-rmse:3.50663+0.00673736\ttest-rmse:3.81835+0.0286458\n",
            "[472]\ttrain-rmse:3.50628+0.00669713\ttest-rmse:3.8183+0.0286109\n",
            "[473]\ttrain-rmse:3.50595+0.00669304\ttest-rmse:3.81831+0.0285505\n",
            "[474]\ttrain-rmse:3.50566+0.00673743\ttest-rmse:3.81829+0.0285049\n",
            "[475]\ttrain-rmse:3.5053+0.00666247\ttest-rmse:3.81824+0.0284949\n",
            "[476]\ttrain-rmse:3.50502+0.00672075\ttest-rmse:3.81822+0.0285655\n",
            "[477]\ttrain-rmse:3.50479+0.00662664\ttest-rmse:3.81818+0.0285656\n",
            "[478]\ttrain-rmse:3.50435+0.00664734\ttest-rmse:3.81804+0.0285832\n",
            "[479]\ttrain-rmse:3.50395+0.00677503\ttest-rmse:3.81809+0.0286956\n",
            "[480]\ttrain-rmse:3.50368+0.00675433\ttest-rmse:3.81806+0.0287249\n",
            "[481]\ttrain-rmse:3.50343+0.00680538\ttest-rmse:3.81805+0.0287284\n",
            "[482]\ttrain-rmse:3.50309+0.00680348\ttest-rmse:3.81803+0.0288408\n",
            "[483]\ttrain-rmse:3.50285+0.00676712\ttest-rmse:3.81808+0.0288084\n",
            "[484]\ttrain-rmse:3.50261+0.0067849\ttest-rmse:3.81809+0.0288106\n",
            "[485]\ttrain-rmse:3.50236+0.0068117\ttest-rmse:3.81807+0.028836\n",
            "[486]\ttrain-rmse:3.50207+0.0068115\ttest-rmse:3.818+0.028809\n",
            "[487]\ttrain-rmse:3.50174+0.00674331\ttest-rmse:3.81802+0.028791\n",
            "[488]\ttrain-rmse:3.5015+0.00674606\ttest-rmse:3.81802+0.0287652\n",
            "[489]\ttrain-rmse:3.50114+0.00681171\ttest-rmse:3.81798+0.0288315\n",
            "[490]\ttrain-rmse:3.50093+0.00680123\ttest-rmse:3.81799+0.028871\n",
            "[491]\ttrain-rmse:3.5007+0.00674233\ttest-rmse:3.81804+0.0288835\n",
            "[492]\ttrain-rmse:3.50047+0.00681153\ttest-rmse:3.81808+0.0289002\n",
            "[493]\ttrain-rmse:3.50011+0.00673365\ttest-rmse:3.81798+0.0289492\n",
            "[494]\ttrain-rmse:3.4998+0.00677743\ttest-rmse:3.81794+0.028958\n",
            "[495]\ttrain-rmse:3.49944+0.00656101\ttest-rmse:3.81785+0.0290224\n",
            "[496]\ttrain-rmse:3.49909+0.00658286\ttest-rmse:3.81784+0.029047\n",
            "[497]\ttrain-rmse:3.49883+0.00653685\ttest-rmse:3.81779+0.0291202\n",
            "[498]\ttrain-rmse:3.49851+0.00655704\ttest-rmse:3.81778+0.0291393\n",
            "[499]\ttrain-rmse:3.49821+0.00654628\ttest-rmse:3.81768+0.0291014\n",
            "[500]\ttrain-rmse:3.49789+0.0064496\ttest-rmse:3.81766+0.0292444\n",
            "[501]\ttrain-rmse:3.49752+0.00643067\ttest-rmse:3.81767+0.0292346\n",
            "[502]\ttrain-rmse:3.49709+0.00648821\ttest-rmse:3.81766+0.0292451\n",
            "[503]\ttrain-rmse:3.49673+0.00647709\ttest-rmse:3.81768+0.0292403\n",
            "[504]\ttrain-rmse:3.49642+0.00642854\ttest-rmse:3.81771+0.0291929\n",
            "[505]\ttrain-rmse:3.49616+0.00638802\ttest-rmse:3.81779+0.0293091\n",
            "[506]\ttrain-rmse:3.49585+0.00640912\ttest-rmse:3.81775+0.0293303\n",
            "[507]\ttrain-rmse:3.49551+0.00639179\ttest-rmse:3.81771+0.0292832\n",
            "[508]\ttrain-rmse:3.49519+0.00639593\ttest-rmse:3.81769+0.0292818\n",
            "[509]\ttrain-rmse:3.4949+0.00633776\ttest-rmse:3.81758+0.029324\n",
            "[510]\ttrain-rmse:3.49466+0.00633432\ttest-rmse:3.81762+0.0293396\n",
            "[511]\ttrain-rmse:3.49441+0.00630807\ttest-rmse:3.81767+0.0293029\n",
            "[512]\ttrain-rmse:3.49413+0.00631035\ttest-rmse:3.8177+0.0292264\n",
            "[513]\ttrain-rmse:3.4939+0.00630261\ttest-rmse:3.81772+0.0291976\n",
            "[514]\ttrain-rmse:3.49361+0.0062491\ttest-rmse:3.81774+0.0291896\n",
            "[515]\ttrain-rmse:3.49335+0.00624782\ttest-rmse:3.81772+0.0292602\n",
            "[516]\ttrain-rmse:3.49305+0.0062458\ttest-rmse:3.81768+0.0291854\n",
            "[517]\ttrain-rmse:3.4928+0.00624293\ttest-rmse:3.81771+0.0291363\n",
            "[518]\ttrain-rmse:3.49258+0.00626394\ttest-rmse:3.81774+0.0291545\n",
            "[519]\ttrain-rmse:3.49235+0.00626831\ttest-rmse:3.81766+0.029104\n",
            "[520]\ttrain-rmse:3.4921+0.00625878\ttest-rmse:3.81768+0.0291568\n",
            "[521]\ttrain-rmse:3.49184+0.00625267\ttest-rmse:3.8177+0.0291903\n",
            "[522]\ttrain-rmse:3.49154+0.00631824\ttest-rmse:3.81771+0.0291995\n",
            "[523]\ttrain-rmse:3.49125+0.00625445\ttest-rmse:3.81772+0.0292157\n",
            "[524]\ttrain-rmse:3.49095+0.00626629\ttest-rmse:3.81763+0.0290556\n",
            "[525]\ttrain-rmse:3.49066+0.006175\ttest-rmse:3.81758+0.0291573\n",
            "[526]\ttrain-rmse:3.49039+0.00611748\ttest-rmse:3.81751+0.0291671\n",
            "[527]\ttrain-rmse:3.49011+0.00603612\ttest-rmse:3.81749+0.0292001\n",
            "[528]\ttrain-rmse:3.48988+0.00604769\ttest-rmse:3.8175+0.0292366\n",
            "[529]\ttrain-rmse:3.48965+0.00599938\ttest-rmse:3.81748+0.0292403\n",
            "[530]\ttrain-rmse:3.4894+0.00596238\ttest-rmse:3.81746+0.0292386\n",
            "[531]\ttrain-rmse:3.48908+0.00599847\ttest-rmse:3.81744+0.029322\n",
            "[532]\ttrain-rmse:3.4888+0.0061203\ttest-rmse:3.81749+0.0293054\n",
            "[533]\ttrain-rmse:3.48849+0.0061806\ttest-rmse:3.81752+0.0292365\n",
            "[534]\ttrain-rmse:3.48814+0.00622612\ttest-rmse:3.81753+0.0291885\n",
            "[535]\ttrain-rmse:3.48785+0.00616431\ttest-rmse:3.81751+0.029146\n",
            "[536]\ttrain-rmse:3.48763+0.00618992\ttest-rmse:3.81758+0.029149\n",
            "[537]\ttrain-rmse:3.4873+0.00619237\ttest-rmse:3.81759+0.0291573\n",
            "[538]\ttrain-rmse:3.487+0.00613335\ttest-rmse:3.81759+0.0291525\n",
            "[539]\ttrain-rmse:3.48675+0.00615931\ttest-rmse:3.81755+0.0290565\n",
            "[540]\ttrain-rmse:3.48642+0.00605582\ttest-rmse:3.81745+0.0291004\n",
            "[541]\ttrain-rmse:3.48614+0.0060845\ttest-rmse:3.81744+0.0291066\n",
            "[542]\ttrain-rmse:3.48591+0.00606657\ttest-rmse:3.81744+0.0291047\n",
            "[543]\ttrain-rmse:3.48559+0.00595509\ttest-rmse:3.81739+0.0291247\n",
            "[544]\ttrain-rmse:3.48532+0.00596333\ttest-rmse:3.81735+0.0291626\n",
            "[545]\ttrain-rmse:3.48508+0.00592508\ttest-rmse:3.81738+0.0291468\n",
            "[546]\ttrain-rmse:3.48486+0.00596973\ttest-rmse:3.81743+0.0291632\n",
            "[547]\ttrain-rmse:3.48454+0.00595695\ttest-rmse:3.81732+0.0292418\n",
            "[548]\ttrain-rmse:3.48427+0.00598119\ttest-rmse:3.81733+0.0292131\n",
            "[549]\ttrain-rmse:3.48407+0.00599343\ttest-rmse:3.81735+0.0292333\n",
            "[550]\ttrain-rmse:3.48371+0.00599704\ttest-rmse:3.81737+0.0291644\n",
            "[551]\ttrain-rmse:3.48344+0.00601352\ttest-rmse:3.81742+0.0292043\n",
            "[552]\ttrain-rmse:3.48314+0.00597525\ttest-rmse:3.81744+0.0292114\n",
            "[553]\ttrain-rmse:3.48286+0.00601493\ttest-rmse:3.8175+0.0292207\n",
            "[554]\ttrain-rmse:3.48262+0.00605228\ttest-rmse:3.81748+0.0291904\n",
            "[555]\ttrain-rmse:3.48241+0.00608313\ttest-rmse:3.81752+0.0291944\n",
            "[556]\ttrain-rmse:3.48215+0.00610897\ttest-rmse:3.81755+0.0292069\n",
            "[557]\ttrain-rmse:3.48186+0.00602695\ttest-rmse:3.81762+0.0291692\n",
            "[558]\ttrain-rmse:3.48161+0.00608117\ttest-rmse:3.8176+0.0291502\n",
            "[559]\ttrain-rmse:3.48131+0.0061359\ttest-rmse:3.81767+0.0290784\n",
            "[560]\ttrain-rmse:3.48108+0.0061543\ttest-rmse:3.81769+0.0290872\n",
            "[561]\ttrain-rmse:3.48078+0.00611871\ttest-rmse:3.8177+0.0290601\n",
            "[562]\ttrain-rmse:3.48057+0.00616228\ttest-rmse:3.81771+0.0290856\n",
            "[563]\ttrain-rmse:3.48025+0.00616066\ttest-rmse:3.81772+0.0290967\n",
            "[564]\ttrain-rmse:3.47995+0.0061279\ttest-rmse:3.81767+0.0290651\n",
            "[565]\ttrain-rmse:3.47966+0.0061955\ttest-rmse:3.81768+0.0290079\n",
            "[566]\ttrain-rmse:3.47941+0.00614849\ttest-rmse:3.81769+0.0289634\n",
            "[567]\ttrain-rmse:3.47913+0.0062298\ttest-rmse:3.81771+0.0290315\n",
            "[568]\ttrain-rmse:3.47887+0.00626272\ttest-rmse:3.81774+0.0289601\n",
            "[569]\ttrain-rmse:3.47867+0.00626096\ttest-rmse:3.81775+0.028968\n",
            "[570]\ttrain-rmse:3.47841+0.00633012\ttest-rmse:3.81764+0.0289416\n",
            "[571]\ttrain-rmse:3.4782+0.00634529\ttest-rmse:3.81769+0.0289636\n",
            "[572]\ttrain-rmse:3.47793+0.00629013\ttest-rmse:3.81769+0.0289871\n",
            "[573]\ttrain-rmse:3.47769+0.00634193\ttest-rmse:3.81766+0.0289814\n",
            "[574]\ttrain-rmse:3.4774+0.00632073\ttest-rmse:3.81762+0.0290152\n",
            "[575]\ttrain-rmse:3.47713+0.00629337\ttest-rmse:3.81763+0.0289626\n",
            "[576]\ttrain-rmse:3.4769+0.00631352\ttest-rmse:3.81761+0.0289764\n",
            "[577]\ttrain-rmse:3.47655+0.00617635\ttest-rmse:3.8176+0.0290599\n",
            "[578]\ttrain-rmse:3.47626+0.00614147\ttest-rmse:3.81754+0.0290128\n",
            "[579]\ttrain-rmse:3.47597+0.00620985\ttest-rmse:3.81758+0.0291391\n",
            "[580]\ttrain-rmse:3.47568+0.00622076\ttest-rmse:3.81752+0.0291053\n",
            "[581]\ttrain-rmse:3.47531+0.00632166\ttest-rmse:3.81744+0.0290925\n",
            "[582]\ttrain-rmse:3.47504+0.00632231\ttest-rmse:3.81745+0.029067\n",
            "[583]\ttrain-rmse:3.47474+0.00630506\ttest-rmse:3.81732+0.0290595\n",
            "[584]\ttrain-rmse:3.47452+0.0063303\ttest-rmse:3.81721+0.0290483\n",
            "[585]\ttrain-rmse:3.47423+0.00629145\ttest-rmse:3.81717+0.0290562\n",
            "[586]\ttrain-rmse:3.47396+0.00639872\ttest-rmse:3.81709+0.0289821\n",
            "[587]\ttrain-rmse:3.4737+0.00636129\ttest-rmse:3.81709+0.028996\n",
            "[588]\ttrain-rmse:3.47345+0.00635935\ttest-rmse:3.81717+0.0289743\n",
            "[589]\ttrain-rmse:3.47321+0.00636091\ttest-rmse:3.81719+0.0289783\n",
            "[590]\ttrain-rmse:3.47293+0.00639691\ttest-rmse:3.81711+0.0289273\n",
            "[591]\ttrain-rmse:3.4727+0.00638488\ttest-rmse:3.81716+0.0289754\n",
            "[592]\ttrain-rmse:3.47244+0.00643724\ttest-rmse:3.81711+0.028934\n",
            "[593]\ttrain-rmse:3.47219+0.00644577\ttest-rmse:3.81706+0.0288635\n",
            "[594]\ttrain-rmse:3.47193+0.00643462\ttest-rmse:3.81704+0.0289012\n",
            "[595]\ttrain-rmse:3.47163+0.0063481\ttest-rmse:3.81708+0.0289068\n",
            "[596]\ttrain-rmse:3.47142+0.00633895\ttest-rmse:3.81707+0.0288877\n",
            "[597]\ttrain-rmse:3.4712+0.0063207\ttest-rmse:3.81703+0.028889\n",
            "[598]\ttrain-rmse:3.47093+0.00627393\ttest-rmse:3.81701+0.0289283\n",
            "[599]\ttrain-rmse:3.47074+0.00629335\ttest-rmse:3.81706+0.029018\n",
            "[600]\ttrain-rmse:3.47055+0.006292\ttest-rmse:3.81703+0.029062\n",
            "[601]\ttrain-rmse:3.47028+0.00632179\ttest-rmse:3.81711+0.0290527\n",
            "[602]\ttrain-rmse:3.47005+0.00630154\ttest-rmse:3.81711+0.0290432\n",
            "[603]\ttrain-rmse:3.46982+0.00634068\ttest-rmse:3.81709+0.0290325\n",
            "[604]\ttrain-rmse:3.46954+0.00629466\ttest-rmse:3.81703+0.0290339\n",
            "[605]\ttrain-rmse:3.46924+0.0061894\ttest-rmse:3.81698+0.0290132\n",
            "[606]\ttrain-rmse:3.46902+0.00614545\ttest-rmse:3.81692+0.0290299\n",
            "[607]\ttrain-rmse:3.46874+0.00616153\ttest-rmse:3.81692+0.0290929\n",
            "[608]\ttrain-rmse:3.46851+0.00619851\ttest-rmse:3.81691+0.0290838\n",
            "[609]\ttrain-rmse:3.46832+0.00618096\ttest-rmse:3.81697+0.0290584\n",
            "[610]\ttrain-rmse:3.46807+0.00620842\ttest-rmse:3.81701+0.0290756\n",
            "[611]\ttrain-rmse:3.46787+0.00620982\ttest-rmse:3.81703+0.02905\n",
            "[612]\ttrain-rmse:3.46762+0.00617297\ttest-rmse:3.81698+0.0290028\n",
            "[613]\ttrain-rmse:3.46746+0.00618452\ttest-rmse:3.81698+0.0290039\n",
            "[614]\ttrain-rmse:3.46727+0.00614957\ttest-rmse:3.81698+0.0289705\n",
            "[615]\ttrain-rmse:3.46705+0.00618091\ttest-rmse:3.81706+0.0289555\n",
            "[616]\ttrain-rmse:3.4668+0.00614832\ttest-rmse:3.81702+0.0289897\n",
            "[617]\ttrain-rmse:3.46659+0.00614408\ttest-rmse:3.817+0.0289867\n",
            "[618]\ttrain-rmse:3.46632+0.00623007\ttest-rmse:3.81706+0.0291135\n",
            "[619]\ttrain-rmse:3.46609+0.00628948\ttest-rmse:3.81703+0.0290727\n",
            "[620]\ttrain-rmse:3.4658+0.00631098\ttest-rmse:3.81703+0.0290874\n",
            "[621]\ttrain-rmse:3.46562+0.00630908\ttest-rmse:3.817+0.0290537\n",
            "[622]\ttrain-rmse:3.46536+0.00629157\ttest-rmse:3.81703+0.0290826\n",
            "[623]\ttrain-rmse:3.46516+0.00633788\ttest-rmse:3.81704+0.029087\n",
            "[624]\ttrain-rmse:3.46493+0.00632518\ttest-rmse:3.81707+0.0291204\n",
            "[625]\ttrain-rmse:3.46467+0.00631733\ttest-rmse:3.81711+0.0291182\n",
            "[626]\ttrain-rmse:3.46441+0.00631802\ttest-rmse:3.81713+0.029074\n",
            "[627]\ttrain-rmse:3.46415+0.00625453\ttest-rmse:3.8171+0.029085\n",
            "[628]\ttrain-rmse:3.46391+0.00624737\ttest-rmse:3.8171+0.0290454\n",
            "[629]\ttrain-rmse:3.46373+0.00625859\ttest-rmse:3.81717+0.0290069\n",
            "[630]\ttrain-rmse:3.46349+0.00624419\ttest-rmse:3.81721+0.0290629\n",
            "[631]\ttrain-rmse:3.46329+0.00621228\ttest-rmse:3.81716+0.0290684\n",
            "[632]\ttrain-rmse:3.46303+0.0061254\ttest-rmse:3.81715+0.0290984\n",
            "[633]\ttrain-rmse:3.46277+0.00619832\ttest-rmse:3.8171+0.0290333\n",
            "[634]\ttrain-rmse:3.4625+0.0060983\ttest-rmse:3.81707+0.0291035\n",
            "[635]\ttrain-rmse:3.46228+0.00610903\ttest-rmse:3.81708+0.0290949\n",
            "[636]\ttrain-rmse:3.46207+0.00612386\ttest-rmse:3.81705+0.0291146\n",
            "[637]\ttrain-rmse:3.46186+0.00611025\ttest-rmse:3.81699+0.0290669\n",
            "[638]\ttrain-rmse:3.46159+0.0061058\ttest-rmse:3.81705+0.0291424\n",
            "[639]\ttrain-rmse:3.46132+0.00607032\ttest-rmse:3.81708+0.0292149\n",
            "[640]\ttrain-rmse:3.4611+0.00604552\ttest-rmse:3.81708+0.0292606\n",
            "[641]\ttrain-rmse:3.46093+0.00605737\ttest-rmse:3.81712+0.0293136\n",
            "[642]\ttrain-rmse:3.46072+0.00604258\ttest-rmse:3.81708+0.0293268\n",
            "[643]\ttrain-rmse:3.4605+0.00599289\ttest-rmse:3.81708+0.0292739\n",
            "[644]\ttrain-rmse:3.4603+0.00601743\ttest-rmse:3.81708+0.029249\n",
            "[645]\ttrain-rmse:3.46006+0.00596662\ttest-rmse:3.81707+0.0292144\n",
            "[646]\ttrain-rmse:3.45986+0.00591892\ttest-rmse:3.81705+0.0292733\n",
            "[647]\ttrain-rmse:3.45968+0.00590765\ttest-rmse:3.817+0.0292632\n",
            "[648]\ttrain-rmse:3.45936+0.00601489\ttest-rmse:3.81695+0.0293163\n",
            "[649]\ttrain-rmse:3.45913+0.00602288\ttest-rmse:3.81694+0.0293091\n",
            "[650]\ttrain-rmse:3.4589+0.00593915\ttest-rmse:3.81689+0.0293419\n",
            "[651]\ttrain-rmse:3.45864+0.00589075\ttest-rmse:3.81686+0.0293564\n",
            "[652]\ttrain-rmse:3.45842+0.00590454\ttest-rmse:3.8168+0.0293009\n",
            "[653]\ttrain-rmse:3.45818+0.00592964\ttest-rmse:3.81683+0.0293271\n",
            "[654]\ttrain-rmse:3.45799+0.00596013\ttest-rmse:3.81683+0.0293279\n",
            "[655]\ttrain-rmse:3.45777+0.006027\ttest-rmse:3.81677+0.02928\n",
            "[656]\ttrain-rmse:3.4575+0.00597499\ttest-rmse:3.81675+0.0292811\n",
            "[657]\ttrain-rmse:3.45724+0.00599505\ttest-rmse:3.81675+0.0293001\n",
            "[658]\ttrain-rmse:3.45702+0.00596283\ttest-rmse:3.81676+0.0293774\n",
            "[659]\ttrain-rmse:3.45681+0.00593064\ttest-rmse:3.81674+0.0293496\n",
            "[660]\ttrain-rmse:3.45662+0.00591364\ttest-rmse:3.81676+0.0293199\n",
            "[661]\ttrain-rmse:3.45634+0.00590813\ttest-rmse:3.81671+0.0292704\n",
            "[662]\ttrain-rmse:3.45614+0.00589616\ttest-rmse:3.81668+0.0292452\n",
            "[663]\ttrain-rmse:3.45594+0.00590151\ttest-rmse:3.81668+0.0292176\n",
            "[664]\ttrain-rmse:3.4557+0.00585812\ttest-rmse:3.81662+0.0292401\n",
            "[665]\ttrain-rmse:3.45542+0.005911\ttest-rmse:3.81667+0.0293251\n",
            "[666]\ttrain-rmse:3.45523+0.00593338\ttest-rmse:3.81666+0.0293412\n",
            "[667]\ttrain-rmse:3.45505+0.00590426\ttest-rmse:3.81666+0.029381\n",
            "[668]\ttrain-rmse:3.45475+0.00589821\ttest-rmse:3.81662+0.0294693\n",
            "[669]\ttrain-rmse:3.45451+0.00593533\ttest-rmse:3.81655+0.0294763\n",
            "[670]\ttrain-rmse:3.45434+0.0059401\ttest-rmse:3.81656+0.0294453\n",
            "[671]\ttrain-rmse:3.4541+0.00599409\ttest-rmse:3.81658+0.0294458\n",
            "[672]\ttrain-rmse:3.45381+0.00599653\ttest-rmse:3.81659+0.0294682\n",
            "[673]\ttrain-rmse:3.4536+0.00592285\ttest-rmse:3.81666+0.029424\n",
            "[674]\ttrain-rmse:3.45339+0.00593611\ttest-rmse:3.81668+0.0294488\n",
            "[675]\ttrain-rmse:3.4531+0.00590454\ttest-rmse:3.8167+0.0294235\n",
            "[676]\ttrain-rmse:3.45287+0.0058593\ttest-rmse:3.81674+0.0294064\n",
            "[677]\ttrain-rmse:3.45267+0.00582149\ttest-rmse:3.81682+0.0293763\n",
            "[678]\ttrain-rmse:3.45232+0.00586396\ttest-rmse:3.81681+0.0293884\n",
            "[679]\ttrain-rmse:3.45214+0.00590549\ttest-rmse:3.81685+0.0294092\n",
            "[680]\ttrain-rmse:3.45181+0.00590461\ttest-rmse:3.8168+0.0293442\n",
            "[681]\ttrain-rmse:3.45156+0.00589121\ttest-rmse:3.81681+0.0292804\n",
            "[682]\ttrain-rmse:3.45132+0.0058876\ttest-rmse:3.81684+0.0293001\n",
            "[683]\ttrain-rmse:3.45115+0.00586085\ttest-rmse:3.81685+0.0292917\n",
            "[684]\ttrain-rmse:3.45095+0.00584467\ttest-rmse:3.81685+0.0293164\n",
            "[685]\ttrain-rmse:3.45074+0.00585297\ttest-rmse:3.81684+0.0293084\n",
            "[686]\ttrain-rmse:3.45046+0.00595154\ttest-rmse:3.81676+0.0292778\n",
            "[687]\ttrain-rmse:3.45029+0.0059502\ttest-rmse:3.81679+0.0293476\n",
            "[688]\ttrain-rmse:3.45011+0.00590831\ttest-rmse:3.81682+0.0293214\n",
            "[689]\ttrain-rmse:3.4499+0.00599554\ttest-rmse:3.81683+0.029319\n",
            "[690]\ttrain-rmse:3.44961+0.0060147\ttest-rmse:3.81685+0.0293054\n",
            "[691]\ttrain-rmse:3.44944+0.00605078\ttest-rmse:3.81683+0.0293015\n",
            "[692]\ttrain-rmse:3.44921+0.00602972\ttest-rmse:3.81679+0.0293349\n",
            "[693]\ttrain-rmse:3.44903+0.00606329\ttest-rmse:3.81678+0.0293211\n",
            "[694]\ttrain-rmse:3.44873+0.00613506\ttest-rmse:3.81679+0.029356\n",
            "[695]\ttrain-rmse:3.44859+0.00611775\ttest-rmse:3.81679+0.0293446\n",
            "[696]\ttrain-rmse:3.44833+0.00615381\ttest-rmse:3.8168+0.0294137\n",
            "[697]\ttrain-rmse:3.44807+0.00619889\ttest-rmse:3.81683+0.0294618\n",
            "[698]\ttrain-rmse:3.44787+0.00613201\ttest-rmse:3.81682+0.0294598\n",
            "[699]\ttrain-rmse:3.44767+0.00605928\ttest-rmse:3.81687+0.0294599\n",
            "[700]\ttrain-rmse:3.44749+0.00607344\ttest-rmse:3.81686+0.0294707\n",
            "[701]\ttrain-rmse:3.44725+0.00599584\ttest-rmse:3.81694+0.0294537\n",
            "[702]\ttrain-rmse:3.44706+0.00598755\ttest-rmse:3.81693+0.0294602\n",
            "[703]\ttrain-rmse:3.44684+0.00598077\ttest-rmse:3.8169+0.0294775\n",
            "[704]\ttrain-rmse:3.44662+0.00596082\ttest-rmse:3.81683+0.0294473\n",
            "[705]\ttrain-rmse:3.44642+0.00596975\ttest-rmse:3.81685+0.0294846\n",
            "[706]\ttrain-rmse:3.44619+0.00592456\ttest-rmse:3.8169+0.0294911\n",
            "[707]\ttrain-rmse:3.44599+0.00596673\ttest-rmse:3.81687+0.0294928\n",
            "[708]\ttrain-rmse:3.44575+0.00599819\ttest-rmse:3.81689+0.0295114\n",
            "[709]\ttrain-rmse:3.44558+0.00605077\ttest-rmse:3.81692+0.0295287\n",
            "[710]\ttrain-rmse:3.44531+0.00603058\ttest-rmse:3.81691+0.0295658\n",
            "[711]\ttrain-rmse:3.44507+0.00600886\ttest-rmse:3.81691+0.0295339\n",
            "[712]\ttrain-rmse:3.44484+0.0059832\ttest-rmse:3.817+0.0295364\n",
            "[713]\ttrain-rmse:3.44461+0.00589201\ttest-rmse:3.81695+0.0295366\n",
            "[714]\ttrain-rmse:3.44436+0.00590415\ttest-rmse:3.817+0.0294948\n",
            "[715]\ttrain-rmse:3.44418+0.00594965\ttest-rmse:3.817+0.0294727\n",
            "[716]\ttrain-rmse:3.44392+0.00591192\ttest-rmse:3.817+0.0295266\n",
            "[717]\ttrain-rmse:3.44369+0.00591387\ttest-rmse:3.81702+0.0296019\n",
            "[718]\ttrain-rmse:3.44338+0.00592119\ttest-rmse:3.81698+0.0295673\n",
            "\n",
            "Model Report\n",
            "RMSE : 3.48\n"
          ],
          "name": "stdout"
        },
        {
          "output_type": "display_data",
          "data": {
            "image/png": "[encoded data removed]",
            "text/plain": [
              "<Figure size 432x288 with 1 Axes>"
            ]
          },
          "metadata": {
            "tags": [],
            "needs_background": "light"
          }
        }
      ]
    },
    {
      "cell_type": "code",
      "metadata": {
        "id": "wxWUJw0a-C5P"
      },
      "source": [
        "submission = pd.read_csv(PATH + '/sample_submission.csv')\n",
        "submission['fare_amount'] = predictions\n",
        "submission.to_csv('sub.csv', index=False)"
      ],
      "execution_count": null,
      "outputs": []
    }
  ]
}